{
 "cells": [
  {
   "cell_type": "code",
   "execution_count": 1,
   "metadata": {},
   "outputs": [
    {
     "name": "stderr",
     "output_type": "stream",
     "text": [
      "[nltk_data] Downloading package punkt to\n",
      "[nltk_data]     C:\\Users\\simonato\\AppData\\Roaming\\nltk_data...\n",
      "[nltk_data]   Package punkt is already up-to-date!\n"
     ]
    }
   ],
   "source": [
    "# Carrega as bibliotecas\n",
    "#!pip install nltk\n",
    "import nltk\n",
    "from nltk.tokenize import sent_tokenize\n",
    "nltk.download('punkt')\n",
    "from nltk.tokenize import word_tokenize"
   ]
  },
  {
   "cell_type": "code",
   "execution_count": 2,
   "metadata": {},
   "outputs": [],
   "source": [
    "import numpy as np\n",
    "import pandas as pd\n",
    "from os import path\n",
    "from PIL import Image"
   ]
  },
  {
   "cell_type": "code",
   "execution_count": 3,
   "metadata": {},
   "outputs": [],
   "source": [
    "#!pip install wordcloud\n",
    "from wordcloud import WordCloud, STOPWORDS, ImageColorGenerator"
   ]
  },
  {
   "cell_type": "code",
   "execution_count": 4,
   "metadata": {},
   "outputs": [
    {
     "name": "stdout",
     "output_type": "stream",
     "text": [
      "\"Conhecereis a verdade e a verdade vos libertará.\n",
      "\n",
      "Nunca estive sozinho. Sempre senti a presença de Deus e a força do povo brasileiro.\n",
      "\n",
      "Orações de homens, mulheres, crianças, famílias inteiras que, diante da ameaça de seguirmos por um caminho que não é o que os brasileiros desejam e merecem, colocaram o Brasil, nosso amado Brasil, acima de tudo.\n",
      "\n",
      "Faço de vocês minhas testemunhas de que esse governo será um defensor da Constituição, da democracia e da liberdade. Isso é uma promessa não de um partido. Não é a palavra vã de um homem. É um juramento a Deus.\n",
      "\n",
      "A verdade vai libertar este grande país, e a liberdade vai nos transformar em uma grande nação.\n",
      "\n",
      "A verdade foi o farol que nos guiou até aqui e que vai seguir iluminando o nosso caminho.\n",
      "\n",
      "O que ocorreu hoje nas urnas não foi a vitória de um partido, mas a celebração de um país pela liberdade.\n",
      "\n",
      "O compromisso que assumimos com os brasileiros foi de fazer um governo decente, comprometido exclusivamente com o país e com o nosso povo --e eu garanto que assim será.\n",
      "\n",
      "Nosso governo será formado por pessoas que tenham o mesmo propósito de cada um que me ouve neste momento: o propósito de transformar o nosso Brasil em uma grande, livre e próspera nação.\n",
      "\n",
      "Podem ter certeza de que nós trabalharemos dia e noite para isso. Liberdade é um princípio fundamental: liberdade de ir e vir, de andar nas ruas, em todos os lugares deste país, liberdade de empreender, liberdade política e religiosa, liberdade de informar e ter opinião. Liberdade de fazer escolhas e ser respeitado por elas.\n",
      "\n",
      "Este é um país de todos nós, brasileiros natos ou de coração. Um Brasil de diversas opiniões, cores e orientações.\n",
      "\n",
      "Como defensor da liberdade, vou guiar um governo que defenda e proteja os direitos do cidadão que cumpre seus deveres e respeita as leis; elas são para todos. Porque assim será o nosso governo; constitucional e democrático.\n",
      "\n",
      "Acredito na capacidade do povo brasileiro, que trabalha de forma honesta, de que podemos juntos --governo e sociedade-- construir um futuro melhor.\n",
      "\n",
      "Esse futuro de que falo e acredito passa por um governo que crie as condições para que todos cresçam. Isso significa que o governo federal dará um passo atrás --reduzindo a sua estrutura e a burocracia; cortando desperdícios e privilégios, para que as pessoas possam dar muitos passos à frente.\n",
      "\n",
      "Nosso governo vai quebrar paradigmas: vamos confiar nas pessoas. Vamos desburocratizar, simplificar e permitir que o cidadão, o empreendedor, tenha mais liberdade para criar e construir e seu futuro.\n",
      "\n",
      "Vamos \"desamarrar\" o Brasil.\n",
      "\n",
      "Outro paradigma que vamos quebrar: o governo, de verdade, a Federação. As pessoas vivem nos municípios; portanto, os recursos federais irão diretamente do governo central para os estados e municípios. Colocaremos de pé a federação brasileira. Nesse sentido é que repetimos que precisamos de mais Brasil e menos Brasília.\n",
      "\n",
      "Muito do que estamos fundando no presente trará conquistas no futuro. As sementes serão lançadas e regadas para que a prosperidade seja o desígnio dos brasileiros do presente e do futuro. Esse não será um governo de resposta apenas às necessidades imediatas.\n",
      "\n",
      "As reformas a que nos propomos serão para criar um novo futuro para os brasileiros. E quando digo isso falo com uma mão voltada para o seringueiro no coração da selva amazônica e a outra para o empreendedor suando para criar e desenvolver sua empresa. Porque não existem brasileiros do sul ou do norte. Somos todos um só país, somos todos uma só nação!\n",
      "\n",
      "Uma nação democrática!\n",
      "\n",
      "O estado democrático de direito tem como um dos seus pilares o direito de propriedade.\n",
      "\n",
      "Reafirmamos aqui o respeito e a defesa deste princípio constitucional e fundador das principais nações democráticas do mundo.\n",
      "\n",
      "Emprego, renda e equilíbrio fiscal: é o nosso compromisso para ficarmos mais próximos de oportunidades e trabalho para todos.\n",
      "\n",
      "Quebraremos o círculo vicioso do crescimento da dívida, substituindo-o pelo círculo virtuoso de menores déficits, dívidas decrescente e juros mais baixos.\n",
      "\n",
      "Isso estimulará os investimentos, o crescimento e a consequente geração de empregos. O déficit público primário precisa ser eliminado o mais rápido possível e convertido em superávit.\n",
      "\n",
      "Este é o nosso propósito.\n",
      "\n",
      "Aos jovens, uma palavra do fundo do meu coração: vocês têm vivido um período de incerteza e estagnação econômica. Vocês foram e estão sendo testados a provar sua capacidade de resistir. Prometo que isso vai mudar. Esta é a nossa missão. Governaremos com os olhos nas futuras gerações e não na próxima eleição.\n",
      "\n",
      "Libertaremos o Brasil e o Itamaraty das relações internacionais com viés ideológico a que foram submetidos nos últimos anos. O Brasil deixará de estar apartado das nações mais desenvolvidas.\n",
      "\n",
      "Buscaremos relações bilaterais com países que possam agregar valor econômico e tecnológico aos produtos brasileiros. Recuperaremos o respeito internacional pelo nosso amado Brasil.\n",
      "\n",
      "Durante a nossa caminhada de quatro anos pelo Brasil, uma frase se repetiu muitas vezes: \"Bolsonaro, você é a nossa esperança\".\n",
      "\n",
      "Cada abraço, cada aperto de mão, cada palavra ou manifestação de estímulo que recebemos nesta caminhada fortaleceram o nosso propósito de colocar o Brasil no lugar que merece.\n",
      "\n",
      "Nesse projeto que construímos, cabem todos aqueles que têm o mesmo objetivo que o nosso.\n",
      "\n",
      "Mesmo no momento mais difícil desta caminhada, quando, por obra de Deus e da equipe médica de Juiz de Fora, ganhei uma nova certidão de nascimento, não perdemos a convicção de que juntos poderíamos chegar a esta vitória.\n",
      "\n",
      "É com esta mesma convicção que afirmo: ofereceremos a vocês um governo decente, que trabalhará, verdadeiramente, para todos os brasileiros.\n",
      "\n",
      "Somos um grande país, e agora vamos juntos transformar esse país em um grande nação. Uma nação livre, democrática e próspera!\n",
      "\n",
      "BRASIL ACIMA DE TUDO,\n",
      "\n",
      "DEUS ACIMA DE TODOS!\"\n",
      "<class 'str'>\n"
     ]
    }
   ],
   "source": [
    "# Carregar arquivo de texto\n",
    "f = open('vitoria.txt', 'r')\n",
    "texto = ''\n",
    "while 1:\n",
    "    line = f.readline()\n",
    "    if not line: break\n",
    "    texto += line\n",
    "f.close()\n",
    "\n",
    "print(texto)\n",
    "print(type(texto))"
   ]
  },
  {
   "cell_type": "code",
   "execution_count": 5,
   "metadata": {},
   "outputs": [
    {
     "name": "stdout",
     "output_type": "stream",
     "text": [
      "['``', 'Conhecereis', 'a', 'verdade', 'e', 'a', 'verdade', 'vos', 'libertará', '.', 'Nunca', 'estive', 'sozinho', '.', 'Sempre', 'senti', 'a', 'presença', 'de', 'Deus', 'e', 'a', 'força', 'do', 'povo', 'brasileiro', '.', 'Orações', 'de', 'homens', ',', 'mulheres', ',', 'crianças', ',', 'famílias', 'inteiras', 'que', ',', 'diante', 'da', 'ameaça', 'de', 'seguirmos', 'por', 'um', 'caminho', 'que', 'não', 'é', 'o', 'que', 'os', 'brasileiros', 'desejam', 'e', 'merecem', ',', 'colocaram', 'o', 'Brasil', ',', 'nosso', 'amado', 'Brasil', ',', 'acima', 'de', 'tudo', '.', 'Faço', 'de', 'vocês', 'minhas', 'testemunhas', 'de', 'que', 'esse', 'governo', 'será', 'um', 'defensor', 'da', 'Constituição', ',', 'da', 'democracia', 'e', 'da', 'liberdade', '.', 'Isso', 'é', 'uma', 'promessa', 'não', 'de', 'um', 'partido', '.', 'Não', 'é', 'a', 'palavra', 'vã', 'de', 'um', 'homem', '.', 'É', 'um', 'juramento', 'a', 'Deus', '.', 'A', 'verdade', 'vai', 'libertar', 'este', 'grande', 'país', ',', 'e', 'a', 'liberdade', 'vai', 'nos', 'transformar', 'em', 'uma', 'grande', 'nação', '.', 'A', 'verdade', 'foi', 'o', 'farol', 'que', 'nos', 'guiou', 'até', 'aqui', 'e', 'que', 'vai', 'seguir', 'iluminando', 'o', 'nosso', 'caminho', '.', 'O', 'que', 'ocorreu', 'hoje', 'nas', 'urnas', 'não', 'foi', 'a', 'vitória', 'de', 'um', 'partido', ',', 'mas', 'a', 'celebração', 'de', 'um', 'país', 'pela', 'liberdade', '.', 'O', 'compromisso', 'que', 'assumimos', 'com', 'os', 'brasileiros', 'foi', 'de', 'fazer', 'um', 'governo', 'decente', ',', 'comprometido', 'exclusivamente', 'com', 'o', 'país', 'e', 'com', 'o', 'nosso', 'povo', '--', 'e', 'eu', 'garanto', 'que', 'assim', 'será', '.', 'Nosso', 'governo', 'será', 'formado', 'por', 'pessoas', 'que', 'tenham', 'o', 'mesmo', 'propósito', 'de', 'cada', 'um', 'que', 'me', 'ouve', 'neste', 'momento', ':', 'o', 'propósito', 'de', 'transformar', 'o', 'nosso', 'Brasil', 'em', 'uma', 'grande', ',', 'livre', 'e', 'próspera', 'nação', '.', 'Podem', 'ter', 'certeza', 'de', 'que', 'nós', 'trabalharemos', 'dia', 'e', 'noite', 'para', 'isso', '.', 'Liberdade', 'é', 'um', 'princípio', 'fundamental', ':', 'liberdade', 'de', 'ir', 'e', 'vir', ',', 'de', 'andar', 'nas', 'ruas', ',', 'em', 'todos', 'os', 'lugares', 'deste', 'país', ',', 'liberdade', 'de', 'empreender', ',', 'liberdade', 'política', 'e', 'religiosa', ',', 'liberdade', 'de', 'informar', 'e', 'ter', 'opinião', '.', 'Liberdade', 'de', 'fazer', 'escolhas', 'e', 'ser', 'respeitado', 'por', 'elas', '.', 'Este', 'é', 'um', 'país', 'de', 'todos', 'nós', ',', 'brasileiros', 'natos', 'ou', 'de', 'coração', '.', 'Um', 'Brasil', 'de', 'diversas', 'opiniões', ',', 'cores', 'e', 'orientações', '.', 'Como', 'defensor', 'da', 'liberdade', ',', 'vou', 'guiar', 'um', 'governo', 'que', 'defenda', 'e', 'proteja', 'os', 'direitos', 'do', 'cidadão', 'que', 'cumpre', 'seus', 'deveres', 'e', 'respeita', 'as', 'leis', ';', 'elas', 'são', 'para', 'todos', '.', 'Porque', 'assim', 'será', 'o', 'nosso', 'governo', ';', 'constitucional', 'e', 'democrático', '.', 'Acredito', 'na', 'capacidade', 'do', 'povo', 'brasileiro', ',', 'que', 'trabalha', 'de', 'forma', 'honesta', ',', 'de', 'que', 'podemos', 'juntos', '--', 'governo', 'e', 'sociedade', '--', 'construir', 'um', 'futuro', 'melhor', '.', 'Esse', 'futuro', 'de', 'que', 'falo', 'e', 'acredito', 'passa', 'por', 'um', 'governo', 'que', 'crie', 'as', 'condições', 'para', 'que', 'todos', 'cresçam', '.', 'Isso', 'significa', 'que', 'o', 'governo', 'federal', 'dará', 'um', 'passo', 'atrás', '--', 'reduzindo', 'a', 'sua', 'estrutura', 'e', 'a', 'burocracia', ';', 'cortando', 'desperdícios', 'e', 'privilégios', ',', 'para', 'que', 'as', 'pessoas', 'possam', 'dar', 'muitos', 'passos', 'à', 'frente', '.', 'Nosso', 'governo', 'vai', 'quebrar', 'paradigmas', ':', 'vamos', 'confiar', 'nas', 'pessoas', '.', 'Vamos', 'desburocratizar', ',', 'simplificar', 'e', 'permitir', 'que', 'o', 'cidadão', ',', 'o', 'empreendedor', ',', 'tenha', 'mais', 'liberdade', 'para', 'criar', 'e', 'construir', 'e', 'seu', 'futuro', '.', 'Vamos', '``', 'desamarrar', \"''\", 'o', 'Brasil', '.', 'Outro', 'paradigma', 'que', 'vamos', 'quebrar', ':', 'o', 'governo', ',', 'de', 'verdade', ',', 'a', 'Federação', '.', 'As', 'pessoas', 'vivem', 'nos', 'municípios', ';', 'portanto', ',', 'os', 'recursos', 'federais', 'irão', 'diretamente', 'do', 'governo', 'central', 'para', 'os', 'estados', 'e', 'municípios', '.', 'Colocaremos', 'de', 'pé', 'a', 'federação', 'brasileira', '.', 'Nesse', 'sentido', 'é', 'que', 'repetimos', 'que', 'precisamos', 'de', 'mais', 'Brasil', 'e', 'menos', 'Brasília', '.', 'Muito', 'do', 'que', 'estamos', 'fundando', 'no', 'presente', 'trará', 'conquistas', 'no', 'futuro', '.', 'As', 'sementes', 'serão', 'lançadas', 'e', 'regadas', 'para', 'que', 'a', 'prosperidade', 'seja', 'o', 'desígnio', 'dos', 'brasileiros', 'do', 'presente', 'e', 'do', 'futuro', '.', 'Esse', 'não', 'será', 'um', 'governo', 'de', 'resposta', 'apenas', 'às', 'necessidades', 'imediatas', '.', 'As', 'reformas', 'a', 'que', 'nos', 'propomos', 'serão', 'para', 'criar', 'um', 'novo', 'futuro', 'para', 'os', 'brasileiros', '.', 'E', 'quando', 'digo', 'isso', 'falo', 'com', 'uma', 'mão', 'voltada', 'para', 'o', 'seringueiro', 'no', 'coração', 'da', 'selva', 'amazônica', 'e', 'a', 'outra', 'para', 'o', 'empreendedor', 'suando', 'para', 'criar', 'e', 'desenvolver', 'sua', 'empresa', '.', 'Porque', 'não', 'existem', 'brasileiros', 'do', 'sul', 'ou', 'do', 'norte', '.', 'Somos', 'todos', 'um', 'só', 'país', ',', 'somos', 'todos', 'uma', 'só', 'nação', '!', 'Uma', 'nação', 'democrática', '!', 'O', 'estado', 'democrático', 'de', 'direito', 'tem', 'como', 'um', 'dos', 'seus', 'pilares', 'o', 'direito', 'de', 'propriedade', '.', 'Reafirmamos', 'aqui', 'o', 'respeito', 'e', 'a', 'defesa', 'deste', 'princípio', 'constitucional', 'e', 'fundador', 'das', 'principais', 'nações', 'democráticas', 'do', 'mundo', '.', 'Emprego', ',', 'renda', 'e', 'equilíbrio', 'fiscal', ':', 'é', 'o', 'nosso', 'compromisso', 'para', 'ficarmos', 'mais', 'próximos', 'de', 'oportunidades', 'e', 'trabalho', 'para', 'todos', '.', 'Quebraremos', 'o', 'círculo', 'vicioso', 'do', 'crescimento', 'da', 'dívida', ',', 'substituindo-o', 'pelo', 'círculo', 'virtuoso', 'de', 'menores', 'déficits', ',', 'dívidas', 'decrescente', 'e', 'juros', 'mais', 'baixos', '.', 'Isso', 'estimulará', 'os', 'investimentos', ',', 'o', 'crescimento', 'e', 'a', 'consequente', 'geração', 'de', 'empregos', '.', 'O', 'déficit', 'público', 'primário', 'precisa', 'ser', 'eliminado', 'o', 'mais', 'rápido', 'possível', 'e', 'convertido', 'em', 'superávit', '.', 'Este', 'é', 'o', 'nosso', 'propósito', '.', 'Aos', 'jovens', ',', 'uma', 'palavra', 'do', 'fundo', 'do', 'meu', 'coração', ':', 'vocês', 'têm', 'vivido', 'um', 'período', 'de', 'incerteza', 'e', 'estagnação', 'econômica', '.', 'Vocês', 'foram', 'e', 'estão', 'sendo', 'testados', 'a', 'provar', 'sua', 'capacidade', 'de', 'resistir', '.', 'Prometo', 'que', 'isso', 'vai', 'mudar', '.', 'Esta', 'é', 'a', 'nossa', 'missão', '.', 'Governaremos', 'com', 'os', 'olhos', 'nas', 'futuras', 'gerações', 'e', 'não', 'na', 'próxima', 'eleição', '.', 'Libertaremos', 'o', 'Brasil', 'e', 'o', 'Itamaraty', 'das', 'relações', 'internacionais', 'com', 'viés', 'ideológico', 'a', 'que', 'foram', 'submetidos', 'nos', 'últimos', 'anos', '.', 'O', 'Brasil', 'deixará', 'de', 'estar', 'apartado', 'das', 'nações', 'mais', 'desenvolvidas', '.', 'Buscaremos', 'relações', 'bilaterais', 'com', 'países', 'que', 'possam', 'agregar', 'valor', 'econômico', 'e', 'tecnológico', 'aos', 'produtos', 'brasileiros', '.', 'Recuperaremos', 'o', 'respeito', 'internacional', 'pelo', 'nosso', 'amado', 'Brasil', '.', 'Durante', 'a', 'nossa', 'caminhada', 'de', 'quatro', 'anos', 'pelo', 'Brasil', ',', 'uma', 'frase', 'se', 'repetiu', 'muitas', 'vezes', ':', '``', 'Bolsonaro', ',', 'você', 'é', 'a', 'nossa', 'esperança', \"''\", '.', 'Cada', 'abraço', ',', 'cada', 'aperto', 'de', 'mão', ',', 'cada', 'palavra', 'ou', 'manifestação', 'de', 'estímulo', 'que', 'recebemos', 'nesta', 'caminhada', 'fortaleceram', 'o', 'nosso', 'propósito', 'de', 'colocar', 'o', 'Brasil', 'no', 'lugar', 'que', 'merece', '.', 'Nesse', 'projeto', 'que', 'construímos', ',', 'cabem', 'todos', 'aqueles', 'que', 'têm', 'o', 'mesmo', 'objetivo', 'que', 'o', 'nosso', '.', 'Mesmo', 'no', 'momento', 'mais', 'difícil', 'desta', 'caminhada', ',', 'quando', ',', 'por', 'obra', 'de', 'Deus', 'e', 'da', 'equipe', 'médica', 'de', 'Juiz', 'de', 'Fora', ',', 'ganhei', 'uma', 'nova', 'certidão', 'de', 'nascimento', ',', 'não', 'perdemos', 'a', 'convicção', 'de', 'que', 'juntos', 'poderíamos', 'chegar', 'a', 'esta', 'vitória', '.', 'É', 'com', 'esta', 'mesma', 'convicção', 'que', 'afirmo', ':', 'ofereceremos', 'a', 'vocês', 'um', 'governo', 'decente', ',', 'que', 'trabalhará', ',', 'verdadeiramente', ',', 'para', 'todos', 'os', 'brasileiros', '.', 'Somos', 'um', 'grande', 'país', ',', 'e', 'agora', 'vamos', 'juntos', 'transformar', 'esse', 'país', 'em', 'um', 'grande', 'nação', '.', 'Uma', 'nação', 'livre', ',', 'democrática', 'e', 'próspera', '!', 'BRASIL', 'ACIMA', 'DE', 'TUDO', ',', 'DEUS', 'ACIMA', 'DE', 'TODOS', '!', \"''\"]\n"
     ]
    }
   ],
   "source": [
    "# Quebra em palavras\n",
    "tokenized_word = word_tokenize(texto)\n",
    "print(tokenized_word)"
   ]
  },
  {
   "cell_type": "code",
   "execution_count": 6,
   "metadata": {},
   "outputs": [
    {
     "name": "stdout",
     "output_type": "stream",
     "text": [
      "['``', 'conhecereis', 'a', 'verdade', 'e', 'a', 'verdade', 'vos', 'libertará', '.', 'nunca', 'estive', 'sozinho', '.', 'sempre', 'senti', 'a', 'presença', 'de', 'deus', 'e', 'a', 'força', 'do', 'povo', 'brasileiro', '.', 'orações', 'de', 'homens', ',', 'mulheres', ',', 'crianças', ',', 'famílias', 'inteiras', 'que', ',', 'diante', 'da', 'ameaça', 'de', 'seguirmos', 'por', 'um', 'caminho', 'que', 'não', 'é', 'o', 'que', 'os', 'brasileiros', 'desejam', 'e', 'merecem', ',', 'colocaram', 'o', 'brasil', ',', 'nosso', 'amado', 'brasil', ',', 'acima', 'de', 'tudo', '.', 'faço', 'de', 'vocês', 'minhas', 'testemunhas', 'de', 'que', 'esse', 'governo', 'será', 'um', 'defensor', 'da', 'constituição', ',', 'da', 'democracia', 'e', 'da', 'liberdade', '.', 'isso', 'é', 'uma', 'promessa', 'não', 'de', 'um', 'partido', '.', 'não', 'é', 'a', 'palavra', 'vã', 'de', 'um', 'homem', '.', 'é', 'um', 'juramento', 'a', 'deus', '.', 'a', 'verdade', 'vai', 'libertar', 'este', 'grande', 'país', ',', 'e', 'a', 'liberdade', 'vai', 'nos', 'transformar', 'em', 'uma', 'grande', 'nação', '.', 'a', 'verdade', 'foi', 'o', 'farol', 'que', 'nos', 'guiou', 'até', 'aqui', 'e', 'que', 'vai', 'seguir', 'iluminando', 'o', 'nosso', 'caminho', '.', 'o', 'que', 'ocorreu', 'hoje', 'nas', 'urnas', 'não', 'foi', 'a', 'vitória', 'de', 'um', 'partido', ',', 'mas', 'a', 'celebração', 'de', 'um', 'país', 'pela', 'liberdade', '.', 'o', 'compromisso', 'que', 'assumimos', 'com', 'os', 'brasileiros', 'foi', 'de', 'fazer', 'um', 'governo', 'decente', ',', 'comprometido', 'exclusivamente', 'com', 'o', 'país', 'e', 'com', 'o', 'nosso', 'povo', '--', 'e', 'eu', 'garanto', 'que', 'assim', 'será', '.', 'nosso', 'governo', 'será', 'formado', 'por', 'pessoas', 'que', 'tenham', 'o', 'mesmo', 'propósito', 'de', 'cada', 'um', 'que', 'me', 'ouve', 'neste', 'momento', ':', 'o', 'propósito', 'de', 'transformar', 'o', 'nosso', 'brasil', 'em', 'uma', 'grande', ',', 'livre', 'e', 'próspera', 'nação', '.', 'podem', 'ter', 'certeza', 'de', 'que', 'nós', 'trabalharemos', 'dia', 'e', 'noite', 'para', 'isso', '.', 'liberdade', 'é', 'um', 'princípio', 'fundamental', ':', 'liberdade', 'de', 'ir', 'e', 'vir', ',', 'de', 'andar', 'nas', 'ruas', ',', 'em', 'todos', 'os', 'lugares', 'deste', 'país', ',', 'liberdade', 'de', 'empreender', ',', 'liberdade', 'política', 'e', 'religiosa', ',', 'liberdade', 'de', 'informar', 'e', 'ter', 'opinião', '.', 'liberdade', 'de', 'fazer', 'escolhas', 'e', 'ser', 'respeitado', 'por', 'elas', '.', 'este', 'é', 'um', 'país', 'de', 'todos', 'nós', ',', 'brasileiros', 'natos', 'ou', 'de', 'coração', '.', 'um', 'brasil', 'de', 'diversas', 'opiniões', ',', 'cores', 'e', 'orientações', '.', 'como', 'defensor', 'da', 'liberdade', ',', 'vou', 'guiar', 'um', 'governo', 'que', 'defenda', 'e', 'proteja', 'os', 'direitos', 'do', 'cidadão', 'que', 'cumpre', 'seus', 'deveres', 'e', 'respeita', 'as', 'leis', ';', 'elas', 'são', 'para', 'todos', '.', 'porque', 'assim', 'será', 'o', 'nosso', 'governo', ';', 'constitucional', 'e', 'democrático', '.', 'acredito', 'na', 'capacidade', 'do', 'povo', 'brasileiro', ',', 'que', 'trabalha', 'de', 'forma', 'honesta', ',', 'de', 'que', 'podemos', 'juntos', '--', 'governo', 'e', 'sociedade', '--', 'construir', 'um', 'futuro', 'melhor', '.', 'esse', 'futuro', 'de', 'que', 'falo', 'e', 'acredito', 'passa', 'por', 'um', 'governo', 'que', 'crie', 'as', 'condições', 'para', 'que', 'todos', 'cresçam', '.', 'isso', 'significa', 'que', 'o', 'governo', 'federal', 'dará', 'um', 'passo', 'atrás', '--', 'reduzindo', 'a', 'sua', 'estrutura', 'e', 'a', 'burocracia', ';', 'cortando', 'desperdícios', 'e', 'privilégios', ',', 'para', 'que', 'as', 'pessoas', 'possam', 'dar', 'muitos', 'passos', 'à', 'frente', '.', 'nosso', 'governo', 'vai', 'quebrar', 'paradigmas', ':', 'vamos', 'confiar', 'nas', 'pessoas', '.', 'vamos', 'desburocratizar', ',', 'simplificar', 'e', 'permitir', 'que', 'o', 'cidadão', ',', 'o', 'empreendedor', ',', 'tenha', 'mais', 'liberdade', 'para', 'criar', 'e', 'construir', 'e', 'seu', 'futuro', '.', 'vamos', '``', 'desamarrar', \"''\", 'o', 'brasil', '.', 'outro', 'paradigma', 'que', 'vamos', 'quebrar', ':', 'o', 'governo', ',', 'de', 'verdade', ',', 'a', 'federação', '.', 'as', 'pessoas', 'vivem', 'nos', 'municípios', ';', 'portanto', ',', 'os', 'recursos', 'federais', 'irão', 'diretamente', 'do', 'governo', 'central', 'para', 'os', 'estados', 'e', 'municípios', '.', 'colocaremos', 'de', 'pé', 'a', 'federação', 'brasileira', '.', 'nesse', 'sentido', 'é', 'que', 'repetimos', 'que', 'precisamos', 'de', 'mais', 'brasil', 'e', 'menos', 'brasília', '.', 'muito', 'do', 'que', 'estamos', 'fundando', 'no', 'presente', 'trará', 'conquistas', 'no', 'futuro', '.', 'as', 'sementes', 'serão', 'lançadas', 'e', 'regadas', 'para', 'que', 'a', 'prosperidade', 'seja', 'o', 'desígnio', 'dos', 'brasileiros', 'do', 'presente', 'e', 'do', 'futuro', '.', 'esse', 'não', 'será', 'um', 'governo', 'de', 'resposta', 'apenas', 'às', 'necessidades', 'imediatas', '.', 'as', 'reformas', 'a', 'que', 'nos', 'propomos', 'serão', 'para', 'criar', 'um', 'novo', 'futuro', 'para', 'os', 'brasileiros', '.', 'e', 'quando', 'digo', 'isso', 'falo', 'com', 'uma', 'mão', 'voltada', 'para', 'o', 'seringueiro', 'no', 'coração', 'da', 'selva', 'amazônica', 'e', 'a', 'outra', 'para', 'o', 'empreendedor', 'suando', 'para', 'criar', 'e', 'desenvolver', 'sua', 'empresa', '.', 'porque', 'não', 'existem', 'brasileiros', 'do', 'sul', 'ou', 'do', 'norte', '.', 'somos', 'todos', 'um', 'só', 'país', ',', 'somos', 'todos', 'uma', 'só', 'nação', '!', 'uma', 'nação', 'democrática', '!', 'o', 'estado', 'democrático', 'de', 'direito', 'tem', 'como', 'um', 'dos', 'seus', 'pilares', 'o', 'direito', 'de', 'propriedade', '.', 'reafirmamos', 'aqui', 'o', 'respeito', 'e', 'a', 'defesa', 'deste', 'princípio', 'constitucional', 'e', 'fundador', 'das', 'principais', 'nações', 'democráticas', 'do', 'mundo', '.', 'emprego', ',', 'renda', 'e', 'equilíbrio', 'fiscal', ':', 'é', 'o', 'nosso', 'compromisso', 'para', 'ficarmos', 'mais', 'próximos', 'de', 'oportunidades', 'e', 'trabalho', 'para', 'todos', '.', 'quebraremos', 'o', 'círculo', 'vicioso', 'do', 'crescimento', 'da', 'dívida', ',', 'substituindo-o', 'pelo', 'círculo', 'virtuoso', 'de', 'menores', 'déficits', ',', 'dívidas', 'decrescente', 'e', 'juros', 'mais', 'baixos', '.', 'isso', 'estimulará', 'os', 'investimentos', ',', 'o', 'crescimento', 'e', 'a', 'consequente', 'geração', 'de', 'empregos', '.', 'o', 'déficit', 'público', 'primário', 'precisa', 'ser', 'eliminado', 'o', 'mais', 'rápido', 'possível', 'e', 'convertido', 'em', 'superávit', '.', 'este', 'é', 'o', 'nosso', 'propósito', '.', 'aos', 'jovens', ',', 'uma', 'palavra', 'do', 'fundo', 'do', 'meu', 'coração', ':', 'vocês', 'têm', 'vivido', 'um', 'período', 'de', 'incerteza', 'e', 'estagnação', 'econômica', '.', 'vocês', 'foram', 'e', 'estão', 'sendo', 'testados', 'a', 'provar', 'sua', 'capacidade', 'de', 'resistir', '.', 'prometo', 'que', 'isso', 'vai', 'mudar', '.', 'esta', 'é', 'a', 'nossa', 'missão', '.', 'governaremos', 'com', 'os', 'olhos', 'nas', 'futuras', 'gerações', 'e', 'não', 'na', 'próxima', 'eleição', '.', 'libertaremos', 'o', 'brasil', 'e', 'o', 'itamaraty', 'das', 'relações', 'internacionais', 'com', 'viés', 'ideológico', 'a', 'que', 'foram', 'submetidos', 'nos', 'últimos', 'anos', '.', 'o', 'brasil', 'deixará', 'de', 'estar', 'apartado', 'das', 'nações', 'mais', 'desenvolvidas', '.', 'buscaremos', 'relações', 'bilaterais', 'com', 'países', 'que', 'possam', 'agregar', 'valor', 'econômico', 'e', 'tecnológico', 'aos', 'produtos', 'brasileiros', '.', 'recuperaremos', 'o', 'respeito', 'internacional', 'pelo', 'nosso', 'amado', 'brasil', '.', 'durante', 'a', 'nossa', 'caminhada', 'de', 'quatro', 'anos', 'pelo', 'brasil', ',', 'uma', 'frase', 'se', 'repetiu', 'muitas', 'vezes', ':', '``', 'bolsonaro', ',', 'você', 'é', 'a', 'nossa', 'esperança', \"''\", '.', 'cada', 'abraço', ',', 'cada', 'aperto', 'de', 'mão', ',', 'cada', 'palavra', 'ou', 'manifestação', 'de', 'estímulo', 'que', 'recebemos', 'nesta', 'caminhada', 'fortaleceram', 'o', 'nosso', 'propósito', 'de', 'colocar', 'o', 'brasil', 'no', 'lugar', 'que', 'merece', '.', 'nesse', 'projeto', 'que', 'construímos', ',', 'cabem', 'todos', 'aqueles', 'que', 'têm', 'o', 'mesmo', 'objetivo', 'que', 'o', 'nosso', '.', 'mesmo', 'no', 'momento', 'mais', 'difícil', 'desta', 'caminhada', ',', 'quando', ',', 'por', 'obra', 'de', 'deus', 'e', 'da', 'equipe', 'médica', 'de', 'juiz', 'de', 'fora', ',', 'ganhei', 'uma', 'nova', 'certidão', 'de', 'nascimento', ',', 'não', 'perdemos', 'a', 'convicção', 'de', 'que', 'juntos', 'poderíamos', 'chegar', 'a', 'esta', 'vitória', '.', 'é', 'com', 'esta', 'mesma', 'convicção', 'que', 'afirmo', ':', 'ofereceremos', 'a', 'vocês', 'um', 'governo', 'decente', ',', 'que', 'trabalhará', ',', 'verdadeiramente', ',', 'para', 'todos', 'os', 'brasileiros', '.', 'somos', 'um', 'grande', 'país', ',', 'e', 'agora', 'vamos', 'juntos', 'transformar', 'esse', 'país', 'em', 'um', 'grande', 'nação', '.', 'uma', 'nação', 'livre', ',', 'democrática', 'e', 'próspera', '!', 'brasil', 'acima', 'de', 'tudo', ',', 'deus', 'acima', 'de', 'todos', '!', \"''\"]"
     ]
    },
    {
     "name": "stdout",
     "output_type": "stream",
     "text": [
      "\n"
     ]
    }
   ],
   "source": [
    "# Palavras em letras minúsculas\n",
    "tokenized_word2 = [w.lower() for w in tokenized_word]\n",
    "print(tokenized_word2)"
   ]
  },
  {
   "cell_type": "code",
   "execution_count": 7,
   "metadata": {},
   "outputs": [
    {
     "name": "stdout",
     "output_type": "stream",
     "text": [
      "{'éramos', 'esteja', 'teve', 'de', 'qual', 'houver', 'essa', 'à', 'fôssemos', 'às', 'estiveram', 'somos', 'teus', 'tivesse', 'tém', 'houvessem', 'forem', 'essas', 'dele', 'tiver', 'lhe', 'lhes', 'seríamos', 'tiverem', 'suas', 'elas', 'um', 'estivemos', 'com', 'seriam', 'para', 'esteve', 'aquelas', 'tenho', 'tivera', 'foram', 'hei', 'nem', 'esses', 'tinha', 'tiveram', 'estamos', 'eu', 'houveríamos', 'temos', 'estes', 'nos', 'não', 'nossas', 'sou', 'houveram', 'houveria', 'tivemos', 'numa', 'no', 'num', 'fôramos', 'mais', 'estejamos', 'seria', 'do', 'houverão', 'estiver', 'tinham', 'pelos', 'aqueles', 'teria', 'houvéramos', 'houvera', 'houverá', 'está', 'houvéssemos', 'sejam', 'formos', 'teremos', 'tivessem', 'serão', 'pelo', 'esse', 'fossem', 'tenha', 'teu', 'a', 'delas', 'estas', 'aquilo', 'teriam', 'nas', 'tuas', 'até', 'são', 'tua', 'tivéssemos', 'dos', 'hão', 'você', 'nossos', 'estão', 'e', 'deles', 'nosso', 'minhas', 'fora', 'dela', 'estivessem', 'meu', 'as', 'que', 'quando', 'tivermos', 'em', 'esta', 'minha', 'estivesse', 'estou', 'seus', 'houveriam', 'nossa', 'vos', 'terão', 'os', 'hajam', 'o', 'será', 'se', 'há', 'houvermos', 'houvemos', 'serei', 'houverei', 'tenhamos', 'isto', 'uma', 'havemos', 'sejamos', 'este', 'tivéramos', 'terá', 'foi', 'mas', 'estiverem', 'tínhamos', 'muito', 'nós', 'estivéramos', 'também', 'for', 'quem', 'entre', 'sua', 'já', 'sem', 'tu', 'fomos', 'estejam', 'aquele', 'fosse', 'fui', 'pelas', 'seu', 'meus', 'estivermos', 'ou', 'vocês', 'é', 'era', 'eram', 'houverem', 'eles', 'estava', 'mesmo', 'houvesse', 'como', 'estive', 'da', 'das', 'pela', 'ele', 'estavam', 'só', 'por', 'aquela', 'estivera', 'hajamos', 'seja', 'seremos', 'te', 'isso', 'depois', 'ela', 'estávamos', 'estivéssemos', 'terei', 'ao', 'houveremos', 'tive', 'me', 'haja', 'tem', 'teríamos', 'tenham', 'na', 'aos', 'houve'}\n"
     ]
    },
    {
     "name": "stderr",
     "output_type": "stream",
     "text": [
      "[nltk_data] Downloading package stopwords to\n",
      "[nltk_data]     C:\\Users\\simonato\\AppData\\Roaming\\nltk_data...\n",
      "[nltk_data]   Package stopwords is already up-to-date!\n"
     ]
    }
   ],
   "source": [
    "# Aqui, vamos retirar as chamadas stopwords (conjuncoes, preposicoes, palavras que não nos interessam)\n",
    "# 1) Vamos ver quais stopwords ja existem na biblioteca\n",
    "from nltk.corpus import stopwords\n",
    "nltk.download('stopwords')\n",
    "stop_words = set(stopwords.words('portuguese'))\n",
    "print(stop_words)"
   ]
  },
  {
   "cell_type": "code",
   "execution_count": 8,
   "metadata": {},
   "outputs": [
    {
     "name": "stdout",
     "output_type": "stream",
     "text": [
      "{'éramos', 'esteja', 'teve', 'de', 'qual', 'houver', 'essa', 'à', 'fôssemos', 'às', 'estiveram', 'somos', 'teus', 'tivesse', 'tém', 'houvessem', 'forem', 'essas', 'dele', 'tiver', 'lhe', 'lhes', 'seríamos', 'tiverem', 'suas', 'uso', 'elas', 'um', 'estivemos', 'com', 'seriam', 'para', 'esteve', ',', 'aquelas', 'tenho', 'tivera', 'foram', 'hei', 'nem', 'esses', 'tinha', 'tiveram', 'estamos', 'droga', 'eu', 'houveríamos', 'temos', 'estes', 'nos', 'não', 'nossas', 'sou', 'bbbbbbbbbbbbbbb', 'houveram', 'houveria', 'tivemos', 'numa', 'no', 'num', 'fôramos', 'mais', 'estejamos', '%', 'seria', 'do', 'houverão', 'estiver', 'http', 'tinham', 'pelos', 'aqueles', 'teria', 'houvéramos', 'houvera', 'houverá', 'está', 'houvéssemos', 'sejam', 'formos', 'teremos', 'tivessem', 'serão', 'pelo', '!', 'esse', 'fossem', 'tenha', 'teu', 'a', 'delas', 'estas', 'aquilo', 'teriam', 'nas', 'tuas', 'até', 'são', 'tua', 'tivéssemos', 'dos', 'hão', 'você', 'nossos', 'estão', 'e', 'deles', 'nosso', 'minhas', 'fora', 'dela', 'estivessem', 'meu', 'as', 'que', 'quando', 'tivermos', 'em', 'esta', 'art.', 'minha', 'estivesse', 'estou', 'seus', 'houveriam', '-', 'nossa', 'vos', 'terão', 'os', 'hajam', 'o', 'será', 'se', 'há', 'houvermos', 'houvemos', 'serei', ';', 'houverei', 'tenhamos', 'isto', 'uma', 'havemos', 'sejamos', 'este', 'tivéramos', 'terá', 'foi', '***', 'mas', 'estiverem', 'tínhamos', 'muito', 'nós', '.', 'estivéramos', 'também', 'for', 'quem', 'entre', 'sua', 'já', 'sem', 'tu', 'fomos', 'estejam', 'aquele', 'fosse', 'fui', 'pelas', 'seu', 'meus', 'estivermos', ':', 'ou', 'vocês', 'drogas', 'é', 'era', 'eram', 'houverem', 'eles', 'estava', 'mesmo', 'houvesse', 'como', 'estive', 'da', 'das', 'pela', 'ele', 'estavam', 'só', 'por', 'aquela', 'estivera', 'hajamos', 'seja', 'seremos', '–', 'te', 'isso', 'depois', 'ela', 'estávamos', 'estivéssemos', 'terei', 'ao', 'houveremos', 'tive', 'me', 'haja', 'tem', 'teríamos', 'tenham', 'na', 'aos', 'houve'}\n"
     ]
    }
   ],
   "source": [
    "# 2) Vamos adicionar novas stopwords\n",
    "# coloquei o 'bbbbbbbbbbb' porque ficava mais facil pra ver se deu certo a lista de stopwords depois\n",
    "stop_words.update(('uso',',',';','%','.',':', '***','bbbbbbbbbbbbbbb','-','droga','drogas','art.','–','http', '!'))\n",
    "print(stop_words)"
   ]
  },
  {
   "cell_type": "code",
   "execution_count": 9,
   "metadata": {},
   "outputs": [],
   "source": [
    "# Remover essas stopwords\n",
    "tokenized_word_3 = []\n",
    "for w in tokenized_word2:\n",
    "    if w not in stop_words:\n",
    "        tokenized_word_3.append(w)"
   ]
  },
  {
   "cell_type": "code",
   "execution_count": 10,
   "metadata": {},
   "outputs": [
    {
     "data": {
      "text/plain": [
       "[('governo', 13),\n",
       " ('brasil', 12),\n",
       " ('liberdade', 11),\n",
       " ('todos', 10),\n",
       " ('brasileiros', 8),\n",
       " ('país', 8),\n",
       " ('nação', 6),\n",
       " ('futuro', 6),\n",
       " ('verdade', 5),\n",
       " ('vai', 5),\n",
       " ('grande', 5),\n",
       " ('vamos', 5),\n",
       " ('deus', 4),\n",
       " ('--', 4),\n",
       " ('pessoas', 4),\n",
       " ('propósito', 4),\n",
       " ('cada', 4),\n",
       " ('``', 3),\n",
       " ('povo', 3),\n",
       " ('acima', 3)]"
      ]
     },
     "execution_count": 10,
     "metadata": {},
     "output_type": "execute_result"
    }
   ],
   "source": [
    "# Analisa a distribuição das palavras\n",
    "from nltk.probability import FreqDist\n",
    "fdist = FreqDist(tokenized_word_3)\n",
    "fdist.most_common(20)"
   ]
  },
  {
   "cell_type": "code",
   "execution_count": 11,
   "metadata": {},
   "outputs": [
    {
     "data": {
      "text/plain": [
       "<Figure size 640x480 with 1 Axes>"
      ]
     },
     "metadata": {},
     "output_type": "display_data"
    },
    {
     "data": {
      "text/plain": [
       "<matplotlib.axes._subplots.AxesSubplot at 0x2bff7ac4e88>"
      ]
     },
     "execution_count": 11,
     "metadata": {},
     "output_type": "execute_result"
    }
   ],
   "source": [
    "# Gráfico de distribuiçao de palavras\n",
    "import matplotlib.pyplot as plt\n",
    "plt.figure()\n",
    "fdist.plot(20,cumulative=False)"
   ]
  },
  {
   "cell_type": "code",
   "execution_count": 12,
   "metadata": {},
   "outputs": [
    {
     "data": {
      "text/plain": [
       "<wordcloud.wordcloud.WordCloud at 0x2bff7bcbf08>"
      ]
     },
     "execution_count": 12,
     "metadata": {},
     "output_type": "execute_result"
    }
   ],
   "source": [
    "# Wordcloud\n",
    "wc = WordCloud()\n",
    "img = wc.generate_from_text(' '.join(tokenized_word_3))\n",
    "img.to_file('vitoria.jpeg')"
   ]
  },
  {
   "cell_type": "code",
   "execution_count": null,
   "metadata": {},
   "outputs": [],
   "source": []
  }
 ],
 "metadata": {
  "kernelspec": {
   "display_name": "Python 3",
   "language": "python",
   "name": "python3"
  },
  "language_info": {
   "codemirror_mode": {
    "name": "ipython",
    "version": 3
   },
   "file_extension": ".py",
   "mimetype": "text/x-python",
   "name": "python",
   "nbconvert_exporter": "python",
   "pygments_lexer": "ipython3",
   "version": "3.7.4"
  }
 },
 "nbformat": 4,
 "nbformat_minor": 2
}
