{
 "cells": [
  {
   "cell_type": "code",
   "execution_count": 1,
   "metadata": {},
   "outputs": [
    {
     "name": "stderr",
     "output_type": "stream",
     "text": [
      "[nltk_data] Downloading package punkt to\n",
      "[nltk_data]     C:\\Users\\simonato\\AppData\\Roaming\\nltk_data...\n",
      "[nltk_data]   Package punkt is already up-to-date!\n"
     ]
    }
   ],
   "source": [
    "# Carrega as bibliotecas\n",
    "#!pip install nltk\n",
    "import nltk\n",
    "from nltk.tokenize import sent_tokenize\n",
    "nltk.download('punkt')\n",
    "from nltk.tokenize import word_tokenize"
   ]
  },
  {
   "cell_type": "code",
   "execution_count": 2,
   "metadata": {},
   "outputs": [],
   "source": [
    "import numpy as np\n",
    "import pandas as pd\n",
    "from os import path\n",
    "from PIL import Image"
   ]
  },
  {
   "cell_type": "code",
   "execution_count": 3,
   "metadata": {},
   "outputs": [],
   "source": [
    "#!pip install wordcloud\n",
    "from wordcloud import WordCloud, STOPWORDS, ImageColorGenerator"
   ]
  },
  {
   "cell_type": "code",
   "execution_count": 4,
   "metadata": {},
   "outputs": [
    {
     "name": "stdout",
     "output_type": "stream",
     "text": [
      "Excelentíssimo presidente do Congresso Nacional, senador Eunício Oliveira,\n",
      "\n",
      "Senhoras e senhores chefes de Estado, chefes de Governo, vice-chefes de Estado e vice-chefes de Governo, que me honram com suas presenças.\n",
      "\n",
      "Vice-presidente da República Federativa do Brasil, Hamilton Mourão, meu contemporâneo de Academia Militar de Agulhas Negras,\n",
      "\n",
      "Presidente da Câmara dos Deputados, prezado amigo e companheiro, deputado Rodrigo Maia,\n",
      "\n",
      "Ex-presidentes da República Federativa do Brasil, senhor José Sarney, senhor Fernando Collor de Mello,\n",
      "\n",
      "Presidente do Supremo Tribunal Federal, ministro Dias Toffoli,\n",
      "\n",
      "Senhoras e senhores ministros de Estado e comandantes das Forças aqui presentes,\n",
      "\n",
      "Procuradora-Geral da República, Raquel Dodge,\n",
      "\n",
      "Senhoras e senhores governadores,\n",
      "\n",
      "Senhoras e senhores senadores e deputados federais,\n",
      "\n",
      "Senhoras e senhores chefes de missões estrangeiras acreditados junto ao governo brasileiro,\n",
      "\n",
      "Minha querida esposa Michelle, daqui vizinha Ceilândia,\n",
      "\n",
      "Meus filhos e familiares aqui presentes – a conheci aqui na Câmara.\n",
      "\n",
      "Brasileiros e brasileiras,\n",
      "\n",
      " \n",
      "\n",
      "Primeiro, quero agradecer a Deus por estar vivo. Que, pelas mãos de profissionais da Santa Casa de Juiz de Fora, operaram um verdadeiro milagre, Obrigado, meu Deus!\n",
      "\n",
      "Com humildade, volto a esta Casa, onde, por 28 anos, me empenhei em servir à nação brasileira, travei grandes embates e acumulei experiências e aprendizados que me deram a oportunidade de crescer e amadurecer.\n",
      "\n",
      "Volto a esta Casa, não mais como deputado, mas como Presidente da República Federativa do Brasil, mandato a mim confiado pela vontade soberana do povo brasileiro.\n",
      "\n",
      "Hoje, aqui estou, fortalecido, emocionado e profundamente agradecido a Deus, pela minha vida, e aos brasileiros, que confiaram a mim a honrosa missão de governar o Brasil, neste período de grandes desafios e, ao mesmo tempo, de enorme esperança. Governar com vocês.\n",
      "\n",
      "Aproveito este momento solene e convoco cada um dos Congressistas para me ajudarem na missão de restaurar e de reerguer nossa Pátria, libertando-a, definitivamente, do jugo da corrupção, da criminalidade, da irresponsabilidade econômica e da submissão ideológica.\n",
      "\n",
      "Temos, diante de nós, uma oportunidade única de reconstruir o nosso País e de resgatar a esperança dos nossos compatriotas.\n",
      "\n",
      "Estou certo de que enfrentaremos enormes desafios, mas, se tivermos a sabedoria de ouvir a voz do povo, alcançaremos êxito em nossos objetivos, e, pelo exemplo e pelo trabalho, levaremos as futuras gerações a nos seguir nesta tarefa gloriosa.\n",
      "\n",
      "Vamos unir o povo, valorizar a família, respeitar as religiões e nossa tradição judaico-cristã, combater a ideologia de gênero, conservando nossos valores. O Brasil voltará a ser um País livre das amarras ideológicas.\n",
      "\n",
      "Pretendo partilhar o poder, de forma progressiva, responsável e consciente, de Brasília para o Brasil; do Poder Central para Estados e Municípios.\n",
      "\n",
      "Minha campanha eleitoral atendeu ao chamado das ruas e forjou o compromisso de colocar o Brasil acima de tudo e Deus acima de todos.\n",
      "\n",
      "Por isso, quando os inimigos da Pátria, da ordem e da liberdade tentaram pôr fim à minha vida, milhões de brasileiros foram às ruas. Uma campanha eleitoral transformou-se em um movimento cívico, cobriu-se de verde e amarelo, tornou-se espontâneo, forte e indestrutível, e nos trouxe até aqui.\n",
      "\n",
      "Nada aconteceria sem o esforço e o engajamento de cada um dos brasileiros que tomaram as ruas para preservar nossa liberdade e democracia.\n",
      "\n",
      "Reafirmo meu compromisso de construir uma sociedade sem discriminação ou divisão.\n",
      "\n",
      "Daqui em diante, nos pautaremos pela vontade soberana daqueles brasileiros: que querem boas escolas, capazes de preparar seus filhos para o mercado de trabalho e não para a militância política; que sonham com a liberdade de ir e vir, sem serem vitimados pelo crime; que desejam conquistar, pelo mérito, bons empregos e sustentar com dignidade suas famílias; que exigem saúde, educação, infraestrutura e saneamento básico, em respeito aos direitos e garantias fundamentais da nossa Constituição.\n",
      "\n",
      "O Pavilhão Nacional nos remete à “Ordem e ao Progresso”.\n",
      "\n",
      "Nenhuma sociedade se desenvolve sem respeitar esses preceitos.\n",
      "\n",
      "O cidadão de bem merece dispor de meios para se defender, respeitando o referendo de 2005, quando optou, nas urnas, pelo direito à legítima defesa.\n",
      "\n",
      "Vamos honrar e valorizar aqueles que sacrificam suas vidas em nome de nossa segurança e da segurança dos nossos familiares.\n",
      "\n",
      "Contamos com o apoio do Congresso Nacional para dar o respaldo jurídico para os policiais realizarem o seu trabalho.\n",
      "\n",
      "Eles merecem e devem ser respeitados!\n",
      "\n",
      "Nossas Forças Armadas terão as condições necessárias para cumprir sua missão constitucional de defesa da soberania, do território nacional e das instituições democráticas, mantendo suas capacidades dissuasórias para resguardar nossa soberania e proteger nossas fronteiras.\n",
      "\n",
      "Montamos nossa equipe de forma técnica, sem o tradicional viés político que tornou o Estado ineficiente e corrupto.\n",
      "\n",
      "Vamos valorizar o Parlamento, resgatando a legitimidade e a credibilidade do Congresso Nacional.\n",
      "\n",
      "Na economia traremos a marca da confiança, do interesse nacional, do livre mercado e da eficiência.\n",
      "\n",
      "Confiança no cumprimento de que o governo não gastará mais do que arrecada e na garantia de que as regras, os contratos e as propriedades serão respeitados.\n",
      "\n",
      "Realizaremos reformas estruturantes, que serão essenciais para a saúde financeira e sustentabilidade das contas públicas, transformando o cenário econômico e abrindo novas oportunidades.\n",
      "\n",
      "Precisamos criar um círculo virtuoso para a economia que traga a confiança necessária para permitir abrir nossos mercados para o comércio internacional, estimulando a competição, a produtividade e a eficácia, sem o viés ideológico.\n",
      "\n",
      "Nesse processo de recuperação do crescimento, o setor agropecuário seguirá desempenhando um papel decisivo, em perfeita harmonia com a preservação do meio ambiente.\n",
      "\n",
      "Dessa forma, todo setor produtivo terá um aumento da eficiência, com menos regulamentação e burocracia.\n",
      "\n",
      "Esses desafios só serão resolvidos mediante um verdadeiro pacto nacional entre a sociedade e os Poderes Executivo, Legislativo e Judiciário, na busca de novos caminhos para um novo Brasil.\n",
      "\n",
      "Uma de minhas prioridades é proteger e revigorar a democracia brasileira, trabalhando arduamente para que ela deixe de ser apenas uma promessa formal e distante e passe a ser um componente substancial e tangível da vida política brasileira, com o respeito ao Estado Democrático.\n",
      "\n",
      "A construção de uma nação mais justa e desenvolvida requer a ruptura com práticas que se mostram nefastas para todos nós, maculando a classe política e atrasando o progresso.\n",
      "\n",
      "A irresponsabilidade nos conduziu à maior crise ética, moral e econômica de nossa história.\n",
      "\n",
      "Hoje começamos um trabalho árduo para que o Brasil inicie um novo capítulo de sua história.\n",
      "\n",
      "Um capítulo no qual o Brasil será visto como um País forte, pujante, confiante e ousado.\n",
      "\n",
      "A política externa retomará o seu papel na defesa da soberania, na construção da grandeza e no fomento ao desenvolvimento do Brasil.\n",
      "\n",
      "Senhoras e senhores Congressistas,\n",
      "\n",
      "Deixo esta casa, rumo ao Palácio do Planalto, com a missão de representar o povo brasileiro.\n",
      "\n",
      "Com a benção de Deus, o apoio da minha família e a força do povo brasileiro, trabalharei incansavelmente para que o Brasil se encontre com o seu destino e se torne a grande nação que todos queremos.\n",
      "\n",
      "Muito obrigado a todos vocês.\n",
      "\n",
      "Brasil acima de tudo!\n",
      "\n",
      "Deus acima de todos!\n",
      "<class 'str'>\n"
     ]
    }
   ],
   "source": [
    "# Carregar arquivo de texto\n",
    "f = open('posse-congresso.txt', 'r')\n",
    "texto = ''\n",
    "while 1:\n",
    "    line = f.readline()\n",
    "    if not line: break\n",
    "    texto += line\n",
    "f.close()\n",
    "\n",
    "print(texto)\n",
    "print(type(texto))"
   ]
  },
  {
   "cell_type": "code",
   "execution_count": 5,
   "metadata": {},
   "outputs": [
    {
     "name": "stdout",
     "output_type": "stream",
     "text": [
      "['Excelentíssimo', 'presidente', 'do', 'Congresso', 'Nacional', ',', 'senador', 'Eunício', 'Oliveira', ',', 'Senhoras', 'e', 'senhores', 'chefes', 'de', 'Estado', ',', 'chefes', 'de', 'Governo', ',', 'vice-chefes', 'de', 'Estado', 'e', 'vice-chefes', 'de', 'Governo', ',', 'que', 'me', 'honram', 'com', 'suas', 'presenças', '.', 'Vice-presidente', 'da', 'República', 'Federativa', 'do', 'Brasil', ',', 'Hamilton', 'Mourão', ',', 'meu', 'contemporâneo', 'de', 'Academia', 'Militar', 'de', 'Agulhas', 'Negras', ',', 'Presidente', 'da', 'Câmara', 'dos', 'Deputados', ',', 'prezado', 'amigo', 'e', 'companheiro', ',', 'deputado', 'Rodrigo', 'Maia', ',', 'Ex-presidentes', 'da', 'República', 'Federativa', 'do', 'Brasil', ',', 'senhor', 'José', 'Sarney', ',', 'senhor', 'Fernando', 'Collor', 'de', 'Mello', ',', 'Presidente', 'do', 'Supremo', 'Tribunal', 'Federal', ',', 'ministro', 'Dias', 'Toffoli', ',', 'Senhoras', 'e', 'senhores', 'ministros', 'de', 'Estado', 'e', 'comandantes', 'das', 'Forças', 'aqui', 'presentes', ',', 'Procuradora-Geral', 'da', 'República', ',', 'Raquel', 'Dodge', ',', 'Senhoras', 'e', 'senhores', 'governadores', ',', 'Senhoras', 'e', 'senhores', 'senadores', 'e', 'deputados', 'federais', ',', 'Senhoras', 'e', 'senhores', 'chefes', 'de', 'missões', 'estrangeiras', 'acreditados', 'junto', 'ao', 'governo', 'brasileiro', ',', 'Minha', 'querida', 'esposa', 'Michelle', ',', 'daqui', 'vizinha', 'Ceilândia', ',', 'Meus', 'filhos', 'e', 'familiares', 'aqui', 'presentes', '–', 'a', 'conheci', 'aqui', 'na', 'Câmara', '.', 'Brasileiros', 'e', 'brasileiras', ',', 'Primeiro', ',', 'quero', 'agradecer', 'a', 'Deus', 'por', 'estar', 'vivo', '.', 'Que', ',', 'pelas', 'mãos', 'de', 'profissionais', 'da', 'Santa', 'Casa', 'de', 'Juiz', 'de', 'Fora', ',', 'operaram', 'um', 'verdadeiro', 'milagre', ',', 'Obrigado', ',', 'meu', 'Deus', '!', 'Com', 'humildade', ',', 'volto', 'a', 'esta', 'Casa', ',', 'onde', ',', 'por', '28', 'anos', ',', 'me', 'empenhei', 'em', 'servir', 'à', 'nação', 'brasileira', ',', 'travei', 'grandes', 'embates', 'e', 'acumulei', 'experiências', 'e', 'aprendizados', 'que', 'me', 'deram', 'a', 'oportunidade', 'de', 'crescer', 'e', 'amadurecer', '.', 'Volto', 'a', 'esta', 'Casa', ',', 'não', 'mais', 'como', 'deputado', ',', 'mas', 'como', 'Presidente', 'da', 'República', 'Federativa', 'do', 'Brasil', ',', 'mandato', 'a', 'mim', 'confiado', 'pela', 'vontade', 'soberana', 'do', 'povo', 'brasileiro', '.', 'Hoje', ',', 'aqui', 'estou', ',', 'fortalecido', ',', 'emocionado', 'e', 'profundamente', 'agradecido', 'a', 'Deus', ',', 'pela', 'minha', 'vida', ',', 'e', 'aos', 'brasileiros', ',', 'que', 'confiaram', 'a', 'mim', 'a', 'honrosa', 'missão', 'de', 'governar', 'o', 'Brasil', ',', 'neste', 'período', 'de', 'grandes', 'desafios', 'e', ',', 'ao', 'mesmo', 'tempo', ',', 'de', 'enorme', 'esperança', '.', 'Governar', 'com', 'vocês', '.', 'Aproveito', 'este', 'momento', 'solene', 'e', 'convoco', 'cada', 'um', 'dos', 'Congressistas', 'para', 'me', 'ajudarem', 'na', 'missão', 'de', 'restaurar', 'e', 'de', 'reerguer', 'nossa', 'Pátria', ',', 'libertando-a', ',', 'definitivamente', ',', 'do', 'jugo', 'da', 'corrupção', ',', 'da', 'criminalidade', ',', 'da', 'irresponsabilidade', 'econômica', 'e', 'da', 'submissão', 'ideológica', '.', 'Temos', ',', 'diante', 'de', 'nós', ',', 'uma', 'oportunidade', 'única', 'de', 'reconstruir', 'o', 'nosso', 'País', 'e', 'de', 'resgatar', 'a', 'esperança', 'dos', 'nossos', 'compatriotas', '.', 'Estou', 'certo', 'de', 'que', 'enfrentaremos', 'enormes', 'desafios', ',', 'mas', ',', 'se', 'tivermos', 'a', 'sabedoria', 'de', 'ouvir', 'a', 'voz', 'do', 'povo', ',', 'alcançaremos', 'êxito', 'em', 'nossos', 'objetivos', ',', 'e', ',', 'pelo', 'exemplo', 'e', 'pelo', 'trabalho', ',', 'levaremos', 'as', 'futuras', 'gerações', 'a', 'nos', 'seguir', 'nesta', 'tarefa', 'gloriosa', '.', 'Vamos', 'unir', 'o', 'povo', ',', 'valorizar', 'a', 'família', ',', 'respeitar', 'as', 'religiões', 'e', 'nossa', 'tradição', 'judaico-cristã', ',', 'combater', 'a', 'ideologia', 'de', 'gênero', ',', 'conservando', 'nossos', 'valores', '.', 'O', 'Brasil', 'voltará', 'a', 'ser', 'um', 'País', 'livre', 'das', 'amarras', 'ideológicas', '.', 'Pretendo', 'partilhar', 'o', 'poder', ',', 'de', 'forma', 'progressiva', ',', 'responsável', 'e', 'consciente', ',', 'de', 'Brasília', 'para', 'o', 'Brasil', ';', 'do', 'Poder', 'Central', 'para', 'Estados', 'e', 'Municípios', '.', 'Minha', 'campanha', 'eleitoral', 'atendeu', 'ao', 'chamado', 'das', 'ruas', 'e', 'forjou', 'o', 'compromisso', 'de', 'colocar', 'o', 'Brasil', 'acima', 'de', 'tudo', 'e', 'Deus', 'acima', 'de', 'todos', '.', 'Por', 'isso', ',', 'quando', 'os', 'inimigos', 'da', 'Pátria', ',', 'da', 'ordem', 'e', 'da', 'liberdade', 'tentaram', 'pôr', 'fim', 'à', 'minha', 'vida', ',', 'milhões', 'de', 'brasileiros', 'foram', 'às', 'ruas', '.', 'Uma', 'campanha', 'eleitoral', 'transformou-se', 'em', 'um', 'movimento', 'cívico', ',', 'cobriu-se', 'de', 'verde', 'e', 'amarelo', ',', 'tornou-se', 'espontâneo', ',', 'forte', 'e', 'indestrutível', ',', 'e', 'nos', 'trouxe', 'até', 'aqui', '.', 'Nada', 'aconteceria', 'sem', 'o', 'esforço', 'e', 'o', 'engajamento', 'de', 'cada', 'um', 'dos', 'brasileiros', 'que', 'tomaram', 'as', 'ruas', 'para', 'preservar', 'nossa', 'liberdade', 'e', 'democracia', '.', 'Reafirmo', 'meu', 'compromisso', 'de', 'construir', 'uma', 'sociedade', 'sem', 'discriminação', 'ou', 'divisão', '.', 'Daqui', 'em', 'diante', ',', 'nos', 'pautaremos', 'pela', 'vontade', 'soberana', 'daqueles', 'brasileiros', ':', 'que', 'querem', 'boas', 'escolas', ',', 'capazes', 'de', 'preparar', 'seus', 'filhos', 'para', 'o', 'mercado', 'de', 'trabalho', 'e', 'não', 'para', 'a', 'militância', 'política', ';', 'que', 'sonham', 'com', 'a', 'liberdade', 'de', 'ir', 'e', 'vir', ',', 'sem', 'serem', 'vitimados', 'pelo', 'crime', ';', 'que', 'desejam', 'conquistar', ',', 'pelo', 'mérito', ',', 'bons', 'empregos', 'e', 'sustentar', 'com', 'dignidade', 'suas', 'famílias', ';', 'que', 'exigem', 'saúde', ',', 'educação', ',', 'infraestrutura', 'e', 'saneamento', 'básico', ',', 'em', 'respeito', 'aos', 'direitos', 'e', 'garantias', 'fundamentais', 'da', 'nossa', 'Constituição', '.', 'O', 'Pavilhão', 'Nacional', 'nos', 'remete', 'à', '“', 'Ordem', 'e', 'ao', 'Progresso', '”', '.', 'Nenhuma', 'sociedade', 'se', 'desenvolve', 'sem', 'respeitar', 'esses', 'preceitos', '.', 'O', 'cidadão', 'de', 'bem', 'merece', 'dispor', 'de', 'meios', 'para', 'se', 'defender', ',', 'respeitando', 'o', 'referendo', 'de', '2005', ',', 'quando', 'optou', ',', 'nas', 'urnas', ',', 'pelo', 'direito', 'à', 'legítima', 'defesa', '.', 'Vamos', 'honrar', 'e', 'valorizar', 'aqueles', 'que', 'sacrificam', 'suas', 'vidas', 'em', 'nome', 'de', 'nossa', 'segurança', 'e', 'da', 'segurança', 'dos', 'nossos', 'familiares', '.', 'Contamos', 'com', 'o', 'apoio', 'do', 'Congresso', 'Nacional', 'para', 'dar', 'o', 'respaldo', 'jurídico', 'para', 'os', 'policiais', 'realizarem', 'o', 'seu', 'trabalho', '.', 'Eles', 'merecem', 'e', 'devem', 'ser', 'respeitados', '!', 'Nossas', 'Forças', 'Armadas', 'terão', 'as', 'condições', 'necessárias', 'para', 'cumprir', 'sua', 'missão', 'constitucional', 'de', 'defesa', 'da', 'soberania', ',', 'do', 'território', 'nacional', 'e', 'das', 'instituições', 'democráticas', ',', 'mantendo', 'suas', 'capacidades', 'dissuasórias', 'para', 'resguardar', 'nossa', 'soberania', 'e', 'proteger', 'nossas', 'fronteiras', '.', 'Montamos', 'nossa', 'equipe', 'de', 'forma', 'técnica', ',', 'sem', 'o', 'tradicional', 'viés', 'político', 'que', 'tornou', 'o', 'Estado', 'ineficiente', 'e', 'corrupto', '.', 'Vamos', 'valorizar', 'o', 'Parlamento', ',', 'resgatando', 'a', 'legitimidade', 'e', 'a', 'credibilidade', 'do', 'Congresso', 'Nacional', '.', 'Na', 'economia', 'traremos', 'a', 'marca', 'da', 'confiança', ',', 'do', 'interesse', 'nacional', ',', 'do', 'livre', 'mercado', 'e', 'da', 'eficiência', '.', 'Confiança', 'no', 'cumprimento', 'de', 'que', 'o', 'governo', 'não', 'gastará', 'mais', 'do', 'que', 'arrecada', 'e', 'na', 'garantia', 'de', 'que', 'as', 'regras', ',', 'os', 'contratos', 'e', 'as', 'propriedades', 'serão', 'respeitados', '.', 'Realizaremos', 'reformas', 'estruturantes', ',', 'que', 'serão', 'essenciais', 'para', 'a', 'saúde', 'financeira', 'e', 'sustentabilidade', 'das', 'contas', 'públicas', ',', 'transformando', 'o', 'cenário', 'econômico', 'e', 'abrindo', 'novas', 'oportunidades', '.', 'Precisamos', 'criar', 'um', 'círculo', 'virtuoso', 'para', 'a', 'economia', 'que', 'traga', 'a', 'confiança', 'necessária', 'para', 'permitir', 'abrir', 'nossos', 'mercados', 'para', 'o', 'comércio', 'internacional', ',', 'estimulando', 'a', 'competição', ',', 'a', 'produtividade', 'e', 'a', 'eficácia', ',', 'sem', 'o', 'viés', 'ideológico', '.', 'Nesse', 'processo', 'de', 'recuperação', 'do', 'crescimento', ',', 'o', 'setor', 'agropecuário', 'seguirá', 'desempenhando', 'um', 'papel', 'decisivo', ',', 'em', 'perfeita', 'harmonia', 'com', 'a', 'preservação', 'do', 'meio', 'ambiente', '.', 'Dessa', 'forma', ',', 'todo', 'setor', 'produtivo', 'terá', 'um', 'aumento', 'da', 'eficiência', ',', 'com', 'menos', 'regulamentação', 'e', 'burocracia', '.', 'Esses', 'desafios', 'só', 'serão', 'resolvidos', 'mediante', 'um', 'verdadeiro', 'pacto', 'nacional', 'entre', 'a', 'sociedade', 'e', 'os', 'Poderes', 'Executivo', ',', 'Legislativo', 'e', 'Judiciário', ',', 'na', 'busca', 'de', 'novos', 'caminhos', 'para', 'um', 'novo', 'Brasil', '.', 'Uma', 'de', 'minhas', 'prioridades', 'é', 'proteger', 'e', 'revigorar', 'a', 'democracia', 'brasileira', ',', 'trabalhando', 'arduamente', 'para', 'que', 'ela', 'deixe', 'de', 'ser', 'apenas', 'uma', 'promessa', 'formal', 'e', 'distante', 'e', 'passe', 'a', 'ser', 'um', 'componente', 'substancial', 'e', 'tangível', 'da', 'vida', 'política', 'brasileira', ',', 'com', 'o', 'respeito', 'ao', 'Estado', 'Democrático', '.', 'A', 'construção', 'de', 'uma', 'nação', 'mais', 'justa', 'e', 'desenvolvida', 'requer', 'a', 'ruptura', 'com', 'práticas', 'que', 'se', 'mostram', 'nefastas', 'para', 'todos', 'nós', ',', 'maculando', 'a', 'classe', 'política', 'e', 'atrasando', 'o', 'progresso', '.', 'A', 'irresponsabilidade', 'nos', 'conduziu', 'à', 'maior', 'crise', 'ética', ',', 'moral', 'e', 'econômica', 'de', 'nossa', 'história', '.', 'Hoje', 'começamos', 'um', 'trabalho', 'árduo', 'para', 'que', 'o', 'Brasil', 'inicie', 'um', 'novo', 'capítulo', 'de', 'sua', 'história', '.', 'Um', 'capítulo', 'no', 'qual', 'o', 'Brasil', 'será', 'visto', 'como', 'um', 'País', 'forte', ',', 'pujante', ',', 'confiante', 'e', 'ousado', '.', 'A', 'política', 'externa', 'retomará', 'o', 'seu', 'papel', 'na', 'defesa', 'da', 'soberania', ',', 'na', 'construção', 'da', 'grandeza', 'e', 'no', 'fomento', 'ao', 'desenvolvimento', 'do', 'Brasil', '.', 'Senhoras', 'e', 'senhores', 'Congressistas', ',', 'Deixo', 'esta', 'casa', ',', 'rumo', 'ao', 'Palácio', 'do', 'Planalto', ',', 'com', 'a', 'missão', 'de', 'representar', 'o', 'povo', 'brasileiro', '.', 'Com', 'a', 'benção', 'de', 'Deus', ',', 'o', 'apoio', 'da', 'minha', 'família', 'e', 'a', 'força', 'do', 'povo', 'brasileiro', ',', 'trabalharei', 'incansavelmente', 'para', 'que', 'o', 'Brasil', 'se', 'encontre', 'com', 'o', 'seu', 'destino', 'e', 'se', 'torne', 'a', 'grande', 'nação', 'que', 'todos', 'queremos', '.', 'Muito', 'obrigado', 'a', 'todos', 'vocês', '.', 'Brasil', 'acima', 'de', 'tudo', '!', 'Deus', 'acima', 'de', 'todos', '!']\n"
     ]
    }
   ],
   "source": [
    "# Quebra em palavras\n",
    "tokenized_word = word_tokenize(texto)\n",
    "print(tokenized_word)"
   ]
  },
  {
   "cell_type": "code",
   "execution_count": 6,
   "metadata": {},
   "outputs": [
    {
     "name": "stdout",
     "output_type": "stream",
     "text": [
      "['excelentíssimo', 'presidente', 'do', 'congresso', 'nacional', ',', 'senador', 'eunício', 'oliveira', ',', 'senhoras', 'e', 'senhores', 'chefes', 'de', 'estado', ',', 'chefes', 'de', 'governo', ',', 'vice-chefes', 'de', 'estado', 'e', 'vice-chefes', 'de', 'governo', ',', 'que', 'me', 'honram', 'com', 'suas', 'presenças', '.', 'vice-presidente', 'da', 'república', 'federativa', 'do', 'brasil', ',', 'hamilton', 'mourão', ',', 'meu', 'contemporâneo', 'de', 'academia', 'militar', 'de', 'agulhas', 'negras', ',', 'presidente', 'da', 'câmara', 'dos', 'deputados', ',', 'prezado', 'amigo', 'e', 'companheiro', ',', 'deputado', 'rodrigo', 'maia', ',', 'ex-presidentes', 'da', 'república', 'federativa', 'do', 'brasil', ',', 'senhor', 'josé', 'sarney', ',', 'senhor', 'fernando', 'collor', 'de', 'mello', ',', 'presidente', 'do', 'supremo', 'tribunal', 'federal', ',', 'ministro', 'dias', 'toffoli', ',', 'senhoras', 'e', 'senhores', 'ministros', 'de', 'estado', 'e', 'comandantes', 'das', 'forças', 'aqui', 'presentes', ',', 'procuradora-geral', 'da', 'república', ',', 'raquel', 'dodge', ',', 'senhoras', 'e', 'senhores', 'governadores', ',', 'senhoras', 'e', 'senhores', 'senadores', 'e', 'deputados', 'federais', ',', 'senhoras', 'e', 'senhores', 'chefes', 'de', 'missões', 'estrangeiras', 'acreditados', 'junto', 'ao', 'governo', 'brasileiro', ',', 'minha', 'querida', 'esposa', 'michelle', ',', 'daqui', 'vizinha', 'ceilândia', ',', 'meus', 'filhos', 'e', 'familiares', 'aqui', 'presentes', '–', 'a', 'conheci', 'aqui', 'na', 'câmara', '.', 'brasileiros', 'e', 'brasileiras', ',', 'primeiro', ',', 'quero', 'agradecer', 'a', 'deus', 'por', 'estar', 'vivo', '.', 'que', ',', 'pelas', 'mãos', 'de', 'profissionais', 'da', 'santa', 'casa', 'de', 'juiz', 'de', 'fora', ',', 'operaram', 'um', 'verdadeiro', 'milagre', ',', 'obrigado', ',', 'meu', 'deus', '!', 'com', 'humildade', ',', 'volto', 'a', 'esta', 'casa', ',', 'onde', ',', 'por', '28', 'anos', ',', 'me', 'empenhei', 'em', 'servir', 'à', 'nação', 'brasileira', ',', 'travei', 'grandes', 'embates', 'e', 'acumulei', 'experiências', 'e', 'aprendizados', 'que', 'me', 'deram', 'a', 'oportunidade', 'de', 'crescer', 'e', 'amadurecer', '.', 'volto', 'a', 'esta', 'casa', ',', 'não', 'mais', 'como', 'deputado', ',', 'mas', 'como', 'presidente', 'da', 'república', 'federativa', 'do', 'brasil', ',', 'mandato', 'a', 'mim', 'confiado', 'pela', 'vontade', 'soberana', 'do', 'povo', 'brasileiro', '.', 'hoje', ',', 'aqui', 'estou', ',', 'fortalecido', ',', 'emocionado', 'e', 'profundamente', 'agradecido', 'a', 'deus', ',', 'pela', 'minha', 'vida', ',', 'e', 'aos', 'brasileiros', ',', 'que', 'confiaram', 'a', 'mim', 'a', 'honrosa', 'missão', 'de', 'governar', 'o', 'brasil', ',', 'neste', 'período', 'de', 'grandes', 'desafios', 'e', ',', 'ao', 'mesmo', 'tempo', ',', 'de', 'enorme', 'esperança', '.', 'governar', 'com', 'vocês', '.', 'aproveito', 'este', 'momento', 'solene', 'e', 'convoco', 'cada', 'um', 'dos', 'congressistas', 'para', 'me', 'ajudarem', 'na', 'missão', 'de', 'restaurar', 'e', 'de', 'reerguer', 'nossa', 'pátria', ',', 'libertando-a', ',', 'definitivamente', ',', 'do', 'jugo', 'da', 'corrupção', ',', 'da', 'criminalidade', ',', 'da', 'irresponsabilidade', 'econômica', 'e', 'da', 'submissão', 'ideológica', '.', 'temos', ',', 'diante', 'de', 'nós', ',', 'uma', 'oportunidade', 'única', 'de', 'reconstruir', 'o', 'nosso', 'país', 'e', 'de', 'resgatar', 'a', 'esperança', 'dos', 'nossos', 'compatriotas', '.', 'estou', 'certo', 'de', 'que', 'enfrentaremos', 'enormes', 'desafios', ',', 'mas', ',', 'se', 'tivermos', 'a', 'sabedoria', 'de', 'ouvir', 'a', 'voz', 'do', 'povo', ',', 'alcançaremos', 'êxito', 'em', 'nossos', 'objetivos', ',', 'e', ',', 'pelo', 'exemplo', 'e', 'pelo', 'trabalho', ',', 'levaremos', 'as', 'futuras', 'gerações', 'a', 'nos', 'seguir', 'nesta', 'tarefa', 'gloriosa', '.', 'vamos', 'unir', 'o', 'povo', ',', 'valorizar', 'a', 'família', ',', 'respeitar', 'as', 'religiões', 'e', 'nossa', 'tradição', 'judaico-cristã', ',', 'combater', 'a', 'ideologia', 'de', 'gênero', ',', 'conservando', 'nossos', 'valores', '.', 'o', 'brasil', 'voltará', 'a', 'ser', 'um', 'país', 'livre', 'das', 'amarras', 'ideológicas', '.', 'pretendo', 'partilhar', 'o', 'poder', ',', 'de', 'forma', 'progressiva', ',', 'responsável', 'e', 'consciente', ',', 'de', 'brasília', 'para', 'o', 'brasil', ';', 'do', 'poder', 'central', 'para', 'estados', 'e', 'municípios', '.', 'minha', 'campanha', 'eleitoral', 'atendeu', 'ao', 'chamado', 'das', 'ruas', 'e', 'forjou', 'o', 'compromisso', 'de', 'colocar', 'o', 'brasil', 'acima', 'de', 'tudo', 'e', 'deus', 'acima', 'de', 'todos', '.', 'por', 'isso', ',', 'quando', 'os', 'inimigos', 'da', 'pátria', ',', 'da', 'ordem', 'e', 'da', 'liberdade', 'tentaram', 'pôr', 'fim', 'à', 'minha', 'vida', ',', 'milhões', 'de', 'brasileiros', 'foram', 'às', 'ruas', '.', 'uma', 'campanha', 'eleitoral', 'transformou-se', 'em', 'um', 'movimento', 'cívico', ',', 'cobriu-se', 'de', 'verde', 'e', 'amarelo', ',', 'tornou-se', 'espontâneo', ',', 'forte', 'e', 'indestrutível', ',', 'e', 'nos', 'trouxe', 'até', 'aqui', '.', 'nada', 'aconteceria', 'sem', 'o', 'esforço', 'e', 'o', 'engajamento', 'de', 'cada', 'um', 'dos', 'brasileiros', 'que', 'tomaram', 'as', 'ruas', 'para', 'preservar', 'nossa', 'liberdade', 'e', 'democracia', '.', 'reafirmo', 'meu', 'compromisso', 'de', 'construir', 'uma', 'sociedade', 'sem', 'discriminação', 'ou', 'divisão', '.', 'daqui', 'em', 'diante', ',', 'nos', 'pautaremos', 'pela', 'vontade', 'soberana', 'daqueles', 'brasileiros', ':', 'que', 'querem', 'boas', 'escolas', ',', 'capazes', 'de', 'preparar', 'seus', 'filhos', 'para', 'o', 'mercado', 'de', 'trabalho', 'e', 'não', 'para', 'a', 'militância', 'política', ';', 'que', 'sonham', 'com', 'a', 'liberdade', 'de', 'ir', 'e', 'vir', ',', 'sem', 'serem', 'vitimados', 'pelo', 'crime', ';', 'que', 'desejam', 'conquistar', ',', 'pelo', 'mérito', ',', 'bons', 'empregos', 'e', 'sustentar', 'com', 'dignidade', 'suas', 'famílias', ';', 'que', 'exigem', 'saúde', ',', 'educação', ',', 'infraestrutura', 'e', 'saneamento', 'básico', ',', 'em', 'respeito', 'aos', 'direitos', 'e', 'garantias', 'fundamentais', 'da', 'nossa', 'constituição', '.', 'o', 'pavilhão', 'nacional', 'nos', 'remete', 'à', '“', 'ordem', 'e', 'ao', 'progresso', '”', '.', 'nenhuma', 'sociedade', 'se', 'desenvolve', 'sem', 'respeitar', 'esses', 'preceitos', '.', 'o', 'cidadão', 'de', 'bem', 'merece', 'dispor', 'de', 'meios', 'para', 'se', 'defender', ',', 'respeitando', 'o', 'referendo', 'de', '2005', ',', 'quando', 'optou', ',', 'nas', 'urnas', ',', 'pelo', 'direito', 'à', 'legítima', 'defesa', '.', 'vamos', 'honrar', 'e', 'valorizar', 'aqueles', 'que', 'sacrificam', 'suas', 'vidas', 'em', 'nome', 'de', 'nossa', 'segurança', 'e', 'da', 'segurança', 'dos', 'nossos', 'familiares', '.', 'contamos', 'com', 'o', 'apoio', 'do', 'congresso', 'nacional', 'para', 'dar', 'o', 'respaldo', 'jurídico', 'para', 'os', 'policiais', 'realizarem', 'o', 'seu', 'trabalho', '.', 'eles', 'merecem', 'e', 'devem', 'ser', 'respeitados', '!', 'nossas', 'forças', 'armadas', 'terão', 'as', 'condições', 'necessárias', 'para', 'cumprir', 'sua', 'missão', 'constitucional', 'de', 'defesa', 'da', 'soberania', ',', 'do', 'território', 'nacional', 'e', 'das', 'instituições', 'democráticas', ',', 'mantendo', 'suas', 'capacidades', 'dissuasórias', 'para', 'resguardar', 'nossa', 'soberania', 'e', 'proteger', 'nossas', 'fronteiras', '.', 'montamos', 'nossa', 'equipe', 'de', 'forma', 'técnica', ',', 'sem', 'o', 'tradicional', 'viés', 'político', 'que', 'tornou', 'o', 'estado', 'ineficiente', 'e', 'corrupto', '.', 'vamos', 'valorizar', 'o', 'parlamento', ',', 'resgatando', 'a', 'legitimidade', 'e', 'a', 'credibilidade', 'do', 'congresso', 'nacional', '.', 'na', 'economia', 'traremos', 'a', 'marca', 'da', 'confiança', ',', 'do', 'interesse', 'nacional', ',', 'do', 'livre', 'mercado', 'e', 'da', 'eficiência', '.', 'confiança', 'no', 'cumprimento', 'de', 'que', 'o', 'governo', 'não', 'gastará', 'mais', 'do', 'que', 'arrecada', 'e', 'na', 'garantia', 'de', 'que', 'as', 'regras', ',', 'os', 'contratos', 'e', 'as', 'propriedades', 'serão', 'respeitados', '.', 'realizaremos', 'reformas', 'estruturantes', ',', 'que', 'serão', 'essenciais', 'para', 'a', 'saúde', 'financeira', 'e', 'sustentabilidade', 'das', 'contas', 'públicas', ',', 'transformando', 'o', 'cenário', 'econômico', 'e', 'abrindo', 'novas', 'oportunidades', '.', 'precisamos', 'criar', 'um', 'círculo', 'virtuoso', 'para', 'a', 'economia', 'que', 'traga', 'a', 'confiança', 'necessária', 'para', 'permitir', 'abrir', 'nossos', 'mercados', 'para', 'o', 'comércio', 'internacional', ',', 'estimulando', 'a', 'competição', ',', 'a', 'produtividade', 'e', 'a', 'eficácia', ',', 'sem', 'o', 'viés', 'ideológico', '.', 'nesse', 'processo', 'de', 'recuperação', 'do', 'crescimento', ',', 'o', 'setor', 'agropecuário', 'seguirá', 'desempenhando', 'um', 'papel', 'decisivo', ',', 'em', 'perfeita', 'harmonia', 'com', 'a', 'preservação', 'do', 'meio', 'ambiente', '.', 'dessa', 'forma', ',', 'todo', 'setor', 'produtivo', 'terá', 'um', 'aumento', 'da', 'eficiência', ',', 'com', 'menos', 'regulamentação', 'e', 'burocracia', '.', 'esses', 'desafios', 'só', 'serão', 'resolvidos', 'mediante', 'um', 'verdadeiro', 'pacto', 'nacional', 'entre', 'a', 'sociedade', 'e', 'os', 'poderes', 'executivo', ',', 'legislativo', 'e', 'judiciário', ',', 'na', 'busca', 'de', 'novos', 'caminhos', 'para', 'um', 'novo', 'brasil', '.', 'uma', 'de', 'minhas', 'prioridades', 'é', 'proteger', 'e', 'revigorar', 'a', 'democracia', 'brasileira', ',', 'trabalhando', 'arduamente', 'para', 'que', 'ela', 'deixe', 'de', 'ser', 'apenas', 'uma', 'promessa', 'formal', 'e', 'distante', 'e', 'passe', 'a', 'ser', 'um', 'componente', 'substancial', 'e', 'tangível', 'da', 'vida', 'política', 'brasileira', ',', 'com', 'o', 'respeito', 'ao', 'estado', 'democrático', '.', 'a', 'construção', 'de', 'uma', 'nação', 'mais', 'justa', 'e', 'desenvolvida', 'requer', 'a', 'ruptura', 'com', 'práticas', 'que', 'se', 'mostram', 'nefastas', 'para', 'todos', 'nós', ',', 'maculando', 'a', 'classe', 'política', 'e', 'atrasando', 'o', 'progresso', '.', 'a', 'irresponsabilidade', 'nos', 'conduziu', 'à', 'maior', 'crise', 'ética', ',', 'moral', 'e', 'econômica', 'de', 'nossa', 'história', '.', 'hoje', 'começamos', 'um', 'trabalho', 'árduo', 'para', 'que', 'o', 'brasil', 'inicie', 'um', 'novo', 'capítulo', 'de', 'sua', 'história', '.', 'um', 'capítulo', 'no', 'qual', 'o', 'brasil', 'será', 'visto', 'como', 'um', 'país', 'forte', ',', 'pujante', ',', 'confiante', 'e', 'ousado', '.', 'a', 'política', 'externa', 'retomará', 'o', 'seu', 'papel', 'na', 'defesa', 'da', 'soberania', ',', 'na', 'construção', 'da', 'grandeza', 'e', 'no', 'fomento', 'ao', 'desenvolvimento', 'do', 'brasil', '.', 'senhoras', 'e', 'senhores', 'congressistas', ',', 'deixo', 'esta', 'casa', ',', 'rumo', 'ao', 'palácio', 'do', 'planalto', ',', 'com', 'a', 'missão', 'de', 'representar', 'o', 'povo', 'brasileiro', '.', 'com', 'a', 'benção', 'de', 'deus', ',', 'o', 'apoio', 'da', 'minha', 'família', 'e', 'a', 'força', 'do', 'povo', 'brasileiro', ',', 'trabalharei', 'incansavelmente', 'para', 'que', 'o', 'brasil', 'se', 'encontre', 'com', 'o', 'seu', 'destino', 'e', 'se', 'torne', 'a', 'grande', 'nação', 'que', 'todos', 'queremos', '.', 'muito', 'obrigado', 'a', 'todos', 'vocês', '.', 'brasil', 'acima', 'de', 'tudo', '!', 'deus', 'acima', 'de', 'todos', '!']\n"
     ]
    }
   ],
   "source": [
    "# Palavras em letras minúsculas\n",
    "tokenized_word2 = [w.lower() for w in tokenized_word]\n",
    "print(tokenized_word2)"
   ]
  },
  {
   "cell_type": "code",
   "execution_count": 7,
   "metadata": {},
   "outputs": [
    {
     "name": "stdout",
     "output_type": "stream",
     "text": [
      "{'com', 'eles', 'sua', 'que', 'estavam', 'no', 'vos', 'tiver', 'estes', 'será', 'hajam', 'aquela', 'somos', 'estamos', 'tinham', 'eu', 'tivéssemos', 'para', 'eram', 'houvera', 'tive', 'minha', 'teus', 'seriam', 'teve', 'seja', 'na', 'como', 'sou', 'houveríamos', 'esse', 'ou', 'uma', 'houverão', 'ela', 'tiveram', 'lhes', 'você', 'teu', 'elas', 'seremos', 'estiverem', 'estivera', 'quando', 'haja', 'dele', 'do', 'nosso', 'hei', 'essa', 'terei', 'à', 'estávamos', 'num', 'tínhamos', 'tivesse', 'tivessem', 'tem', 'aqueles', 'vocês', 'seu', 'suas', 'foram', 'formos', 'tuas', 'isso', 'está', 'tinha', 'forem', 'nós', 'este', 'estivesse', 'nossos', 'seria', 'tivermos', 'tenho', 'fomos', 'delas', 'esta', 'muito', 'as', 'houver', 'de', 'numa', 'se', 'tua', 'estou', 'era', 'estava', 'tém', 'serei', 'tivemos', 'mais', 'tenha', 'às', 'houvessem', 'ao', 'das', 'terá', 'estiver', 'houvéssemos', 'fora', 'fosse', 'aos', 'sem', 'estiveram', 'temos', 'terão', 'serão', 'houverei', 'lhe', 'só', 'sejam', 'nos', 'deles', 'da', 'me', 'mesmo', 'houvesse', 'pelas', 'tenhamos', 'te', 'teríamos', 'um', 'mas', 'fôssemos', 'até', 'depois', 'houverem', 'isto', 'meus', 'ele', 'estejam', 'entre', 'foi', 'estejamos', 'teria', 'dela', 'dos', 'for', 'e', 'havemos', 'estive', 'também', 'sejamos', 'esses', 'há', 'essas', 'os', 'aquelas', 'tivera', 'nossa', 'houvéramos', 'em', 'éramos', 'qual', 'nossas', 'já', 'houvermos', 'estivermos', 'fossem', 'teremos', 'houveram', 'tenham', 'hajamos', 'houverá', 'pelos', 'fui', 'tivéramos', 'a', 'seus', 'minhas', 'estivéramos', 'aquilo', 'estivessem', 'não', 'tiverem', 'houveria', 'tu', 'estão', 'estas', 'esteja', 'houvemos', 'estivéssemos', 'aquele', 'hão', 'estivemos', 'são', 'esteve', 'por', 'pela', 'nas', 'meu', 'o', 'fôramos', 'nem', 'quem', 'é', 'pelo', 'houveremos', 'teriam', 'seríamos', 'houveriam', 'houve'}\n"
     ]
    },
    {
     "name": "stderr",
     "output_type": "stream",
     "text": [
      "[nltk_data] Downloading package stopwords to\n",
      "[nltk_data]     C:\\Users\\simonato\\AppData\\Roaming\\nltk_data...\n",
      "[nltk_data]   Package stopwords is already up-to-date!\n"
     ]
    }
   ],
   "source": [
    "# Aqui, vamos retirar as chamadas stopwords (conjuncoes, preposicoes, palavras que não nos interessam)\n",
    "# 1) Vamos ver quais stopwords ja existem na biblioteca\n",
    "from nltk.corpus import stopwords\n",
    "nltk.download('stopwords')\n",
    "stop_words = set(stopwords.words('portuguese'))\n",
    "print(stop_words)"
   ]
  },
  {
   "cell_type": "code",
   "execution_count": 8,
   "metadata": {},
   "outputs": [
    {
     "name": "stdout",
     "output_type": "stream",
     "text": [
      "{'com', 'eles', 'sua', 'que', 'estavam', 'no', 'vos', 'tiver', 'estes', '!', 'será', 'hajam', 'aquela', 'somos', 'estamos', 'tinham', 'eu', 'tivéssemos', 'para', 'eram', 'houvera', 'tive', 'minha', 'teus', 'seriam', '%', 'teve', 'seja', 'na', 'como', 'sou', 'houveríamos', 'esse', 'ou', 'uma', 'houverão', 'ela', 'tiveram', 'lhes', 'você', 'teu', 'elas', 'seremos', 'estiverem', 'art.', 'estivera', 'quando', 'haja', 'dele', 'do', 'nosso', 'hei', 'essa', 'terei', 'à', 'estávamos', 'num', 'tínhamos', 'tivesse', 'tivessem', 'tem', 'aqueles', 'vocês', 'seu', 'suas', 'foram', ',', 'droga', 'formos', 'tuas', 'isso', 'está', 'drogas', 'tinha', 'forem', 'nós', 'este', 'estivesse', 'nossos', 'seria', 'tivermos', 'tenho', 'fomos', 'delas', 'esta', 'muito', 'as', 'houver', 'de', 'numa', 'se', 'tua', 'estou', 'era', 'estava', ';', 'tém', 'serei', 'tivemos', 'mais', 'tenha', '–', 'às', 'houvessem', 'ao', 'das', 'terá', 'estiver', 'houvéssemos', 'fora', 'fosse', 'aos', 'sem', 'estiveram', 'temos', 'terão', 'serão', 'houverei', 'lhe', '***', '-', 'só', 'sejam', 'nos', 'deles', 'da', 'me', 'mesmo', 'houvesse', 'http', 'pelas', 'tenhamos', 'te', 'teríamos', 'um', 'mas', 'fôssemos', 'até', 'depois', 'houverem', 'isto', 'meus', 'ele', 'estejam', 'entre', 'foi', 'estejamos', 'teria', 'dela', 'dos', 'for', 'e', 'havemos', 'estive', 'também', 'sejamos', 'esses', 'há', 'essas', 'os', 'aquelas', 'tivera', 'nossa', 'houvéramos', 'em', 'éramos', 'qual', 'nossas', 'já', 'houvermos', 'estivermos', 'fossem', 'teremos', 'houveram', 'tenham', ':', 'hajamos', 'houverá', 'pelos', 'fui', 'tivéramos', 'a', 'seus', 'minhas', 'estivéramos', 'aquilo', 'estivessem', 'não', 'tiverem', 'houveria', 'tu', 'estão', 'estas', 'esteja', 'houvemos', 'estivéssemos', 'uso', 'aquele', 'hão', 'estivemos', 'são', 'esteve', '.', 'por', 'pela', 'nas', 'meu', 'o', 'fôramos', 'nem', 'quem', 'é', 'pelo', 'houveremos', 'teriam', 'seríamos', 'houveriam', 'houve'}\n"
     ]
    }
   ],
   "source": [
    "# 2) Vamos adicionar novas stopwords\n",
    "stop_words.update(('uso',',',';','%','.',':', '***','-','droga','drogas','art.','–','http', '!'))\n",
    "print(stop_words)"
   ]
  },
  {
   "cell_type": "code",
   "execution_count": 9,
   "metadata": {},
   "outputs": [],
   "source": [
    "# Remover essas stopwords\n",
    "tokenized_word_3 = []\n",
    "for w in tokenized_word2:\n",
    "    if w not in stop_words:\n",
    "        tokenized_word_3.append(w)"
   ]
  },
  {
   "cell_type": "code",
   "execution_count": 10,
   "metadata": {},
   "outputs": [
    {
     "data": {
      "text/plain": [
       "[('brasil', 13),\n",
       " ('nacional', 7),\n",
       " ('senhoras', 6),\n",
       " ('senhores', 6),\n",
       " ('deus', 6),\n",
       " ('estado', 5),\n",
       " ('aqui', 5),\n",
       " ('brasileiros', 5),\n",
       " ('povo', 5),\n",
       " ('todos', 5),\n",
       " ('presidente', 4),\n",
       " ('governo', 4),\n",
       " ('república', 4),\n",
       " ('brasileiro', 4),\n",
       " ('casa', 4),\n",
       " ('missão', 4),\n",
       " ('trabalho', 4),\n",
       " ('ser', 4),\n",
       " ('acima', 4),\n",
       " ('política', 4)]"
      ]
     },
     "execution_count": 10,
     "metadata": {},
     "output_type": "execute_result"
    }
   ],
   "source": [
    "# Analisa a distribuição das palavras\n",
    "from nltk.probability import FreqDist\n",
    "fdist = FreqDist(tokenized_word_3)\n",
    "fdist.most_common(20)"
   ]
  },
  {
   "cell_type": "code",
   "execution_count": 13,
   "metadata": {},
   "outputs": [
    {
     "data": {
      "image/png": "[encoded data removed]",
      "text/plain": [
       "<Figure size 432x288 with 1 Axes>"
      ]
     },
     "metadata": {
      "needs_background": "light"
     },
     "output_type": "display_data"
    },
    {
     "data": {
      "text/plain": [
       "<matplotlib.axes._subplots.AxesSubplot at 0x18816cd95c8>"
      ]
     },
     "execution_count": 13,
     "metadata": {},
     "output_type": "execute_result"
    }
   ],
   "source": [
    "# Gráfico de distribuiçao de palavras\n",
    "import matplotlib.pyplot as plt\n",
    "plt.figure()\n",
    "fdist.plot(20,cumulative=False)"
   ]
  },
  {
   "cell_type": "code",
   "execution_count": 14,
   "metadata": {},
   "outputs": [
    {
     "data": {
      "text/plain": [
       "<wordcloud.wordcloud.WordCloud at 0x18816d50548>"
      ]
     },
     "execution_count": 14,
     "metadata": {},
     "output_type": "execute_result"
    }
   ],
   "source": [
    "# Wordcloud\n",
    "wc = WordCloud()\n",
    "img = wc.generate_from_text(' '.join(tokenized_word_3))\n",
    "img.to_file('posse.jpeg')"
   ]
  },
  {
   "cell_type": "code",
   "execution_count": null,
   "metadata": {},
   "outputs": [],
   "source": []
  }
 ],
 "metadata": {
  "kernelspec": {
   "display_name": "Python 3",
   "language": "python",
   "name": "python3"
  },
  "language_info": {
   "codemirror_mode": {
    "name": "ipython",
    "version": 3
   },
   "file_extension": ".py",
   "mimetype": "text/x-python",
   "name": "python",
   "nbconvert_exporter": "python",
   "pygments_lexer": "ipython3",
   "version": "3.7.4"
  }
 },
 "nbformat": 4,
 "nbformat_minor": 2
}
