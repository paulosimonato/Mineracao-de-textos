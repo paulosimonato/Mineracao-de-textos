{
 "cells": [
  {
   "cell_type": "code",
   "execution_count": 1,
   "metadata": {},
   "outputs": [
    {
     "name": "stderr",
     "output_type": "stream",
     "text": [
      "[nltk_data] Downloading package punkt to\n",
      "[nltk_data]     C:\\Users\\simonato\\AppData\\Roaming\\nltk_data...\n",
      "[nltk_data]   Package punkt is already up-to-date!\n"
     ]
    }
   ],
   "source": [
    "# Carrega as bibliotecas\n",
    "#!pip install nltk\n",
    "import nltk\n",
    "from nltk.tokenize import sent_tokenize\n",
    "nltk.download('punkt')\n",
    "from nltk.tokenize import word_tokenize"
   ]
  },
  {
   "cell_type": "code",
   "execution_count": 2,
   "metadata": {},
   "outputs": [],
   "source": [
    "import numpy as np\n",
    "import pandas as pd\n",
    "from os import path\n",
    "from PIL import Image"
   ]
  },
  {
   "cell_type": "code",
   "execution_count": 3,
   "metadata": {},
   "outputs": [],
   "source": [
    "#!pip install wordcloud\n",
    "from wordcloud import WordCloud, STOPWORDS, ImageColorGenerator"
   ]
  },
  {
   "cell_type": "code",
   "execution_count": 4,
   "metadata": {},
   "outputs": [
    {
     "name": "stdout",
     "output_type": "stream",
     "text": [
      "Senhor vice-presidente da República, Hamilton Mourão. Depois que o Onix te chamou de querido, eu não vou te chamar de amado não, fique tranquilo.\n",
      "\n",
      "          Senhores ministros,\n",
      "\n",
      "          Secretários,\n",
      "\n",
      "          Comandante em exercício do Exército, meu prezado companheiro de turma. É uma satisfação vê-lo aqui, general Barcellos, até porque ele é o último militar na ativa na minha turma. E olhando para mim e para ele, eu parei como capitão para não perder meus cabelos. Em nome do qual eu saúdo os demais comandantes, autoridades militares.\n",
      "\n",
      "          Senhores governadores,\n",
      "\n",
      "          Senadores,\n",
      "\n",
      "          Deputados federais, grandes aliados nosso nessa missão de dar esperança ao nosso povo brasileiro.\n",
      "\n",
      "          Atletas das Forças Armadas, que há pouco estiveram na China, muito bem representando o nosso País. Fui um atleta de nível como o de vocês, como vocês são, e bem sei do sacrifício dos treinamentos, do empenho, dedicação, do afastamento da família para buscar um sonho, um objetivo. Mas esse nosso querido país chamado Brasil é um País que comporta a todos os sonhos.\n",
      "\n",
      "          Vendo aqui o semblante de alguns velhos colegas meus da Câmara, como o Arolde de Oliveira, também capitão do Exército, o decano da Câmara, com toda certeza, agora está no Senado. Não é fácil a vida do parlamentar. Muitas vezes, Carla Zambelli, o colega chega lá e quer resolver os problemas do Brasil rapidamente. Já quer logo sentar no ônibus do lado da janela. Paciência, determinação, que todos nós podemos atingir os nossos objetivos.\n",
      "\n",
      "Eu confesso que o meu jamais foi o de ser presidente da República, a não ser meu pai lá atrás, um homem que era dentista prático e criou sete filhos, debulhando a boca de quem sorria perto dele. E ele falava que eu seria presidente. Em especial, depois que eu entrei, Barcellos, no nosso Exército Brasileiro, sentamos praça no dia 8 de março de [19]74.\n",
      "\n",
      "Naquela época, [19]74, os militares estavam em alta, o Brasil crescia quase 10% ao ano. Tínhamos paz, tínhamos prosperidade, pleno emprego. O Brasil voava. Alguns problemas sempre acontecem. Acontecem com qualquer um de nós, junto a nossa respectiva esposa, esposo que, de vez em quando, tem algum mal-entendido. Mas no fundo o que nós queremos é fazer algo de útil para o próximo. Não existe maior satisfação, meus deputados, prezados senadores, do que ser bem recebido pela população, não interessa em qual local do Brasil ou em que parte do mundo.\n",
      "\n",
      "          O mundo está de olho em nós. Nós estamos recuperando a confiança. E isso é primordial. Quando passamos, agora, até eu lembrei demais do Onyx, do Weintraub, porque há dois anos nós passamos pela China, ou melhor, pelo Japão, Coreia do Sul, Taiwan, e fomos ver um pouquinho de como é que vivem aquelas pessoas. E, olha só, eu falei, em muitos momentos da vida, nas minhas andanças pelo Brasil, como é duro você ser recebido em outros países com o manto da desconfiança. Isso acabou.\n",
      "\n",
      "Na Arábia Saudita, o príncipe herdeiro, foi o terceiro contato meu com ele, e ele falou que eu não voltaria, nós não voltaríamos de mãos abanando para o Brasil. Até aquele momento, ele já tinha investido quase US$ 200 bilhões em alguns países do mundo, e tinha investido zero na América do Sul. E, no dia seguinte, o Onyx anunciou que ele investirá, no Brasil, US$ 10 bilhões.\n",
      "\n",
      "          Isso é a confiança. Eu confio nos meus 22 ministros. De vez em quando, tem alguma fofoca ou intriga ou fuxico. Não é isso, Moro? Mas a gente, entre nós, sabemos o que está acontecendo. Sei do sacrifício de cada um para cumprir a sua missão. Eu sou apenas o técnico desse time. Como disse o Tarcísio outro dia, num programa de televisão, que eu mando mensagem para ele meia-noite e 4h30 da manhã, é porque não está acordado às duas, porque às duas eu também mando. É até bom o colega acordar, olhar para o lado e falar: “Meu amor, eu te amo”. E levar a sua vida.\n",
      "\n",
      "          Nós procuramos dar o melhor de si. Por vezes, erramos. Eu, na Câmara, respondi uns 30 processos de cassação. Eu espero que o meu filho, o Eduardo, não entre nessa linha minha. Agora, em todos os momentos, a Câmara respeitou o sagrado direito de opinião, Van Hattem, o sagrado direito de opinião. Seja ela qual for. Se eu fosse deputado, não é, alguns poderiam achar até que eu devia responder algo no Conselho de Ética porque, nessa viagem, em várias oportunidades, eu, como sendo palmeirense, entreguei a camisa do Flamengo para as autoridades do outro lado do  mundo, traindo o meu Botafogo. Mas, é a política. Todos nós vamos torcer para o Flamengo na final. Eu espero até que seja no Chile. O Chile já pacificado.\n",
      "\n",
      "          E, falando em Chile, meus amigos, nós devemos ter a capacidade de se antecipar a problemas. Nós sabemos que, infelizmente, aqui no Brasil, existem alguns maus brasileiros que ficam o tempo todo maquinando como chegar ao poder, não interessa por que meios. Não podemos admitir isso.\n",
      "\n",
      "          O meu governo, eu duvido que não seja um dos mais democráticos dos últimos anos. Afinal de contas, eu nunca falei em controle social da mídia, eu nunca falei que a Internet deve ser domada. Eu sempre disse que, apesar de ser eu uma das maiores vítimas de fake news, até porque se não tivesse fake news por ocasião das eleições, eu ganharia no primeiro turno disparado. Porque outros candidatos não tiveram fake news, ou muito pouco.\n",
      "\n",
      "          Então, vemos uma CPMI, que eu não vou interferir sobre ela, a não ser conversando com alguns parlamentares do meu partido, eu espero que seja apenas um grande ensinamento, essa CPMI, para mostrar que se nós viermos a depender apenas de uma imprensa nós corremos o risco de ser réu sem crime, de perdermos os nossos direitos sem ter o direito à defesa.\n",
      "\n",
      "          Eu lamento uma grande imprensa, no Brasil, querer colocar no meu colo a execução de uma vereadora, porque um dos possíveis executores morava em meu condomínio. Tem mais gente que deve no meu condomínio. São 150 casas lá dentro. Não é uma imprensa que colabore com o Brasil essa que agiu dessa maneira. Não satisfeita, diz agora, que tem um segundo porteiro. Bem, não vou entrar em detalhes. O meu dedo no painel de presença, de votação, garante a minha situação. E o que é mais importante: que motivo eu teria para cometer um ato daqueles? Estaria, primeiro, contrariando os meus princípios cristãos. E, outra, no que aquela pessoa me atrapalhava? Zero. Lamento pela sua família, pelo ocorrido. É uma marca que fica no Brasil, e essa marca não é boa. Eu espero, Moro, que seja desvendado esse crime, se bem que já tem um ano. Bem como espero que seja desvendado quem tentou matar Jair Bolsonaro.\n",
      "\n",
      "          Mas, o momento aqui é outro, indo para o encerramento. Lá na ponta esquerda da fileira de trás, tem um senhor ali, numa cadeira de rodas, com um boné vermelho no joelho escrito “Trump 2020”. É um herói da Guerra do Vietnã. É um prazer tê-lo entre nós. O senhor deu o sangue pelo seu país. Nós, aqui, se preciso for dar o sangue pela nossa liberdade, nenhum daqui se furtará a essa missão. E eu costumo dizer que mais importante que a própria vida é a liberdade, porque um homem ou uma mulher sem liberdade não tem vida.\n",
      "\n",
      "          Indo para o encerramento, olhando aqui para os meus ministros, para meu amado vice-presidente da República, muito obrigado a todos vocês por terem aceitado essa missão. Deputados e senadores, muito obrigado por entenderem da situação que se encontrava o País e ter ajudado, não ao governo, mas o Brasil sair dessa crise.\n",
      "\n",
      "          E olhando aqui para baixo, tem um garoto numa cadeira de rodas. Qual a tua idade, garoto? Dez anos. A minha filha acabou de fazer nove. É por esses que nós lutamos. Paulo Guedes, nós já passamos dos 60, Paulo, nós já estamos no lucro. Esse é o nosso objetivo. Para ele, nós todos lutaremos, e muito, porque, para quem acredita em Deus, respeito quem não acredita, mas para quem acredita, a nossa salvação está aqui: fazer o bem para o próximo, vê-lo sorrindo no futuro. Porque nas mãos da sua geração é que estará, no futuro, o destino do nosso querido Brasil.\n",
      "\n",
      "          Prezados amigos, senhores e senhoras, meus amados. Muito obrigado pela presença e por vocês também acreditarem no Brasil. Deus abençoe a todos.\n",
      "<class 'str'>\n"
     ]
    }
   ],
   "source": [
    "# Carregar arquivo de texto\n",
    "f = open('300.txt', 'r')\n",
    "texto = ''\n",
    "while 1:\n",
    "    line = f.readline()\n",
    "    if not line: break\n",
    "    texto += line\n",
    "f.close()\n",
    "\n",
    "print(texto)\n",
    "print(type(texto))"
   ]
  },
  {
   "cell_type": "code",
   "execution_count": 5,
   "metadata": {},
   "outputs": [
    {
     "name": "stdout",
     "output_type": "stream",
     "text": [
      "['Senhor', 'vice-presidente', 'da', 'República', ',', 'Hamilton', 'Mourão', '.', 'Depois', 'que', 'o', 'Onix', 'te', 'chamou', 'de', 'querido', ',', 'eu', 'não', 'vou', 'te', 'chamar', 'de', 'amado', 'não', ',', 'fique', 'tranquilo', '.', 'Senhores', 'ministros', ',', 'Secretários', ',', 'Comandante', 'em', 'exercício', 'do', 'Exército', ',', 'meu', 'prezado', 'companheiro', 'de', 'turma', '.', 'É', 'uma', 'satisfação', 'vê-lo', 'aqui', ',', 'general', 'Barcellos', ',', 'até', 'porque', 'ele', 'é', 'o', 'último', 'militar', 'na', 'ativa', 'na', 'minha', 'turma', '.', 'E', 'olhando', 'para', 'mim', 'e', 'para', 'ele', ',', 'eu', 'parei', 'como', 'capitão', 'para', 'não', 'perder', 'meus', 'cabelos', '.', 'Em', 'nome', 'do', 'qual', 'eu', 'saúdo', 'os', 'demais', 'comandantes', ',', 'autoridades', 'militares', '.', 'Senhores', 'governadores', ',', 'Senadores', ',', 'Deputados', 'federais', ',', 'grandes', 'aliados', 'nosso', 'nessa', 'missão', 'de', 'dar', 'esperança', 'ao', 'nosso', 'povo', 'brasileiro', '.', 'Atletas', 'das', 'Forças', 'Armadas', ',', 'que', 'há', 'pouco', 'estiveram', 'na', 'China', ',', 'muito', 'bem', 'representando', 'o', 'nosso', 'País', '.', 'Fui', 'um', 'atleta', 'de', 'nível', 'como', 'o', 'de', 'vocês', ',', 'como', 'vocês', 'são', ',', 'e', 'bem', 'sei', 'do', 'sacrifício', 'dos', 'treinamentos', ',', 'do', 'empenho', ',', 'dedicação', ',', 'do', 'afastamento', 'da', 'família', 'para', 'buscar', 'um', 'sonho', ',', 'um', 'objetivo', '.', 'Mas', 'esse', 'nosso', 'querido', 'país', 'chamado', 'Brasil', 'é', 'um', 'País', 'que', 'comporta', 'a', 'todos', 'os', 'sonhos', '.', 'Vendo', 'aqui', 'o', 'semblante', 'de', 'alguns', 'velhos', 'colegas', 'meus', 'da', 'Câmara', ',', 'como', 'o', 'Arolde', 'de', 'Oliveira', ',', 'também', 'capitão', 'do', 'Exército', ',', 'o', 'decano', 'da', 'Câmara', ',', 'com', 'toda', 'certeza', ',', 'agora', 'está', 'no', 'Senado', '.', 'Não', 'é', 'fácil', 'a', 'vida', 'do', 'parlamentar', '.', 'Muitas', 'vezes', ',', 'Carla', 'Zambelli', ',', 'o', 'colega', 'chega', 'lá', 'e', 'quer', 'resolver', 'os', 'problemas', 'do', 'Brasil', 'rapidamente', '.', 'Já', 'quer', 'logo', 'sentar', 'no', 'ônibus', 'do', 'lado', 'da', 'janela', '.', 'Paciência', ',', 'determinação', ',', 'que', 'todos', 'nós', 'podemos', 'atingir', 'os', 'nossos', 'objetivos', '.', 'Eu', 'confesso', 'que', 'o', 'meu', 'jamais', 'foi', 'o', 'de', 'ser', 'presidente', 'da', 'República', ',', 'a', 'não', 'ser', 'meu', 'pai', 'lá', 'atrás', ',', 'um', 'homem', 'que', 'era', 'dentista', 'prático', 'e', 'criou', 'sete', 'filhos', ',', 'debulhando', 'a', 'boca', 'de', 'quem', 'sorria', 'perto', 'dele', '.', 'E', 'ele', 'falava', 'que', 'eu', 'seria', 'presidente', '.', 'Em', 'especial', ',', 'depois', 'que', 'eu', 'entrei', ',', 'Barcellos', ',', 'no', 'nosso', 'Exército', 'Brasileiro', ',', 'sentamos', 'praça', 'no', 'dia', '8', 'de', 'março', 'de', '[', '19', ']', '74', '.', 'Naquela', 'época', ',', '[', '19', ']', '74', ',', 'os', 'militares', 'estavam', 'em', 'alta', ',', 'o', 'Brasil', 'crescia', 'quase', '10', '%', 'ao', 'ano', '.', 'Tínhamos', 'paz', ',', 'tínhamos', 'prosperidade', ',', 'pleno', 'emprego', '.', 'O', 'Brasil', 'voava', '.', 'Alguns', 'problemas', 'sempre', 'acontecem', '.', 'Acontecem', 'com', 'qualquer', 'um', 'de', 'nós', ',', 'junto', 'a', 'nossa', 'respectiva', 'esposa', ',', 'esposo', 'que', ',', 'de', 'vez', 'em', 'quando', ',', 'tem', 'algum', 'mal-entendido', '.', 'Mas', 'no', 'fundo', 'o', 'que', 'nós', 'queremos', 'é', 'fazer', 'algo', 'de', 'útil', 'para', 'o', 'próximo', '.', 'Não', 'existe', 'maior', 'satisfação', ',', 'meus', 'deputados', ',', 'prezados', 'senadores', ',', 'do', 'que', 'ser', 'bem', 'recebido', 'pela', 'população', ',', 'não', 'interessa', 'em', 'qual', 'local', 'do', 'Brasil', 'ou', 'em', 'que', 'parte', 'do', 'mundo', '.', 'O', 'mundo', 'está', 'de', 'olho', 'em', 'nós', '.', 'Nós', 'estamos', 'recuperando', 'a', 'confiança', '.', 'E', 'isso', 'é', 'primordial', '.', 'Quando', 'passamos', ',', 'agora', ',', 'até', 'eu', 'lembrei', 'demais', 'do', 'Onyx', ',', 'do', 'Weintraub', ',', 'porque', 'há', 'dois', 'anos', 'nós', 'passamos', 'pela', 'China', ',', 'ou', 'melhor', ',', 'pelo', 'Japão', ',', 'Coreia', 'do', 'Sul', ',', 'Taiwan', ',', 'e', 'fomos', 'ver', 'um', 'pouquinho', 'de', 'como', 'é', 'que', 'vivem', 'aquelas', 'pessoas', '.', 'E', ',', 'olha', 'só', ',', 'eu', 'falei', ',', 'em', 'muitos', 'momentos', 'da', 'vida', ',', 'nas', 'minhas', 'andanças', 'pelo', 'Brasil', ',', 'como', 'é', 'duro', 'você', 'ser', 'recebido', 'em', 'outros', 'países', 'com', 'o', 'manto', 'da', 'desconfiança', '.', 'Isso', 'acabou', '.', 'Na', 'Arábia', 'Saudita', ',', 'o', 'príncipe', 'herdeiro', ',', 'foi', 'o', 'terceiro', 'contato', 'meu', 'com', 'ele', ',', 'e', 'ele', 'falou', 'que', 'eu', 'não', 'voltaria', ',', 'nós', 'não', 'voltaríamos', 'de', 'mãos', 'abanando', 'para', 'o', 'Brasil', '.', 'Até', 'aquele', 'momento', ',', 'ele', 'já', 'tinha', 'investido', 'quase', 'US', '$', '200', 'bilhões', 'em', 'alguns', 'países', 'do', 'mundo', ',', 'e', 'tinha', 'investido', 'zero', 'na', 'América', 'do', 'Sul', '.', 'E', ',', 'no', 'dia', 'seguinte', ',', 'o', 'Onyx', 'anunciou', 'que', 'ele', 'investirá', ',', 'no', 'Brasil', ',', 'US', '$', '10', 'bilhões', '.', 'Isso', 'é', 'a', 'confiança', '.', 'Eu', 'confio', 'nos', 'meus', '22', 'ministros', '.', 'De', 'vez', 'em', 'quando', ',', 'tem', 'alguma', 'fofoca', 'ou', 'intriga', 'ou', 'fuxico', '.', 'Não', 'é', 'isso', ',', 'Moro', '?', 'Mas', 'a', 'gente', ',', 'entre', 'nós', ',', 'sabemos', 'o', 'que', 'está', 'acontecendo', '.', 'Sei', 'do', 'sacrifício', 'de', 'cada', 'um', 'para', 'cumprir', 'a', 'sua', 'missão', '.', 'Eu', 'sou', 'apenas', 'o', 'técnico', 'desse', 'time', '.', 'Como', 'disse', 'o', 'Tarcísio', 'outro', 'dia', ',', 'num', 'programa', 'de', 'televisão', ',', 'que', 'eu', 'mando', 'mensagem', 'para', 'ele', 'meia-noite', 'e', '4h30', 'da', 'manhã', ',', 'é', 'porque', 'não', 'está', 'acordado', 'às', 'duas', ',', 'porque', 'às', 'duas', 'eu', 'também', 'mando', '.', 'É', 'até', 'bom', 'o', 'colega', 'acordar', ',', 'olhar', 'para', 'o', 'lado', 'e', 'falar', ':', '“', 'Meu', 'amor', ',', 'eu', 'te', 'amo', '”', '.', 'E', 'levar', 'a', 'sua', 'vida', '.', 'Nós', 'procuramos', 'dar', 'o', 'melhor', 'de', 'si', '.', 'Por', 'vezes', ',', 'erramos', '.', 'Eu', ',', 'na', 'Câmara', ',', 'respondi', 'uns', '30', 'processos', 'de', 'cassação', '.', 'Eu', 'espero', 'que', 'o', 'meu', 'filho', ',', 'o', 'Eduardo', ',', 'não', 'entre', 'nessa', 'linha', 'minha', '.', 'Agora', ',', 'em', 'todos', 'os', 'momentos', ',', 'a', 'Câmara', 'respeitou', 'o', 'sagrado', 'direito', 'de', 'opinião', ',', 'Van', 'Hattem', ',', 'o', 'sagrado', 'direito', 'de', 'opinião', '.', 'Seja', 'ela', 'qual', 'for', '.', 'Se', 'eu', 'fosse', 'deputado', ',', 'não', 'é', ',', 'alguns', 'poderiam', 'achar', 'até', 'que', 'eu', 'devia', 'responder', 'algo', 'no', 'Conselho', 'de', 'Ética', 'porque', ',', 'nessa', 'viagem', ',', 'em', 'várias', 'oportunidades', ',', 'eu', ',', 'como', 'sendo', 'palmeirense', ',', 'entreguei', 'a', 'camisa', 'do', 'Flamengo', 'para', 'as', 'autoridades', 'do', 'outro', 'lado', 'do', 'mundo', ',', 'traindo', 'o', 'meu', 'Botafogo', '.', 'Mas', ',', 'é', 'a', 'política', '.', 'Todos', 'nós', 'vamos', 'torcer', 'para', 'o', 'Flamengo', 'na', 'final', '.', 'Eu', 'espero', 'até', 'que', 'seja', 'no', 'Chile', '.', 'O', 'Chile', 'já', 'pacificado', '.', 'E', ',', 'falando', 'em', 'Chile', ',', 'meus', 'amigos', ',', 'nós', 'devemos', 'ter', 'a', 'capacidade', 'de', 'se', 'antecipar', 'a', 'problemas', '.', 'Nós', 'sabemos', 'que', ',', 'infelizmente', ',', 'aqui', 'no', 'Brasil', ',', 'existem', 'alguns', 'maus', 'brasileiros', 'que', 'ficam', 'o', 'tempo', 'todo', 'maquinando', 'como', 'chegar', 'ao', 'poder', ',', 'não', 'interessa', 'por', 'que', 'meios', '.', 'Não', 'podemos', 'admitir', 'isso', '.', 'O', 'meu', 'governo', ',', 'eu', 'duvido', 'que', 'não', 'seja', 'um', 'dos', 'mais', 'democráticos', 'dos', 'últimos', 'anos', '.', 'Afinal', 'de', 'contas', ',', 'eu', 'nunca', 'falei', 'em', 'controle', 'social', 'da', 'mídia', ',', 'eu', 'nunca', 'falei', 'que', 'a', 'Internet', 'deve', 'ser', 'domada', '.', 'Eu', 'sempre', 'disse', 'que', ',', 'apesar', 'de', 'ser', 'eu', 'uma', 'das', 'maiores', 'vítimas', 'de', 'fake', 'news', ',', 'até', 'porque', 'se', 'não', 'tivesse', 'fake', 'news', 'por', 'ocasião', 'das', 'eleições', ',', 'eu', 'ganharia', 'no', 'primeiro', 'turno', 'disparado', '.', 'Porque', 'outros', 'candidatos', 'não', 'tiveram', 'fake', 'news', ',', 'ou', 'muito', 'pouco', '.', 'Então', ',', 'vemos', 'uma', 'CPMI', ',', 'que', 'eu', 'não', 'vou', 'interferir', 'sobre', 'ela', ',', 'a', 'não', 'ser', 'conversando', 'com', 'alguns', 'parlamentares', 'do', 'meu', 'partido', ',', 'eu', 'espero', 'que', 'seja', 'apenas', 'um', 'grande', 'ensinamento', ',', 'essa', 'CPMI', ',', 'para', 'mostrar', 'que', 'se', 'nós', 'viermos', 'a', 'depender', 'apenas', 'de', 'uma', 'imprensa', 'nós', 'corremos', 'o', 'risco', 'de', 'ser', 'réu', 'sem', 'crime', ',', 'de', 'perdermos', 'os', 'nossos', 'direitos', 'sem', 'ter', 'o', 'direito', 'à', 'defesa', '.', 'Eu', 'lamento', 'uma', 'grande', 'imprensa', ',', 'no', 'Brasil', ',', 'querer', 'colocar', 'no', 'meu', 'colo', 'a', 'execução', 'de', 'uma', 'vereadora', ',', 'porque', 'um', 'dos', 'possíveis', 'executores', 'morava', 'em', 'meu', 'condomínio', '.', 'Tem', 'mais', 'gente', 'que', 'deve', 'no', 'meu', 'condomínio', '.', 'São', '150', 'casas', 'lá', 'dentro', '.', 'Não', 'é', 'uma', 'imprensa', 'que', 'colabore', 'com', 'o', 'Brasil', 'essa', 'que', 'agiu', 'dessa', 'maneira', '.', 'Não', 'satisfeita', ',', 'diz', 'agora', ',', 'que', 'tem', 'um', 'segundo', 'porteiro', '.', 'Bem', ',', 'não', 'vou', 'entrar', 'em', 'detalhes', '.', 'O', 'meu', 'dedo', 'no', 'painel', 'de', 'presença', ',', 'de', 'votação', ',', 'garante', 'a', 'minha', 'situação', '.', 'E', 'o', 'que', 'é', 'mais', 'importante', ':', 'que', 'motivo', 'eu', 'teria', 'para', 'cometer', 'um', 'ato', 'daqueles', '?', 'Estaria', ',', 'primeiro', ',', 'contrariando', 'os', 'meus', 'princípios', 'cristãos', '.', 'E', ',', 'outra', ',', 'no', 'que', 'aquela', 'pessoa', 'me', 'atrapalhava', '?', 'Zero', '.', 'Lamento', 'pela', 'sua', 'família', ',', 'pelo', 'ocorrido', '.', 'É', 'uma', 'marca', 'que', 'fica', 'no', 'Brasil', ',', 'e', 'essa', 'marca', 'não', 'é', 'boa', '.', 'Eu', 'espero', ',', 'Moro', ',', 'que', 'seja', 'desvendado', 'esse', 'crime', ',', 'se', 'bem', 'que', 'já', 'tem', 'um', 'ano', '.', 'Bem', 'como', 'espero', 'que', 'seja', 'desvendado', 'quem', 'tentou', 'matar', 'Jair', 'Bolsonaro', '.', 'Mas', ',', 'o', 'momento', 'aqui', 'é', 'outro', ',', 'indo', 'para', 'o', 'encerramento', '.', 'Lá', 'na', 'ponta', 'esquerda', 'da', 'fileira', 'de', 'trás', ',', 'tem', 'um', 'senhor', 'ali', ',', 'numa', 'cadeira', 'de', 'rodas', ',', 'com', 'um', 'boné', 'vermelho', 'no', 'joelho', 'escrito', '“', 'Trump', '2020', '”', '.', 'É', 'um', 'herói', 'da', 'Guerra', 'do', 'Vietnã', '.', 'É', 'um', 'prazer', 'tê-lo', 'entre', 'nós', '.', 'O', 'senhor', 'deu', 'o', 'sangue', 'pelo', 'seu', 'país', '.', 'Nós', ',', 'aqui', ',', 'se', 'preciso', 'for', 'dar', 'o', 'sangue', 'pela', 'nossa', 'liberdade', ',', 'nenhum', 'daqui', 'se', 'furtará', 'a', 'essa', 'missão', '.', 'E', 'eu', 'costumo', 'dizer', 'que', 'mais', 'importante', 'que', 'a', 'própria', 'vida', 'é', 'a', 'liberdade', ',', 'porque', 'um', 'homem', 'ou', 'uma', 'mulher', 'sem', 'liberdade', 'não', 'tem', 'vida', '.', 'Indo', 'para', 'o', 'encerramento', ',', 'olhando', 'aqui', 'para', 'os', 'meus', 'ministros', ',', 'para', 'meu', 'amado', 'vice-presidente', 'da', 'República', ',', 'muito', 'obrigado', 'a', 'todos', 'vocês', 'por', 'terem', 'aceitado', 'essa', 'missão', '.', 'Deputados', 'e', 'senadores', ',', 'muito', 'obrigado', 'por', 'entenderem', 'da', 'situação', 'que', 'se', 'encontrava', 'o', 'País', 'e', 'ter', 'ajudado', ',', 'não', 'ao', 'governo', ',', 'mas', 'o', 'Brasil', 'sair', 'dessa', 'crise', '.', 'E', 'olhando', 'aqui', 'para', 'baixo', ',', 'tem', 'um', 'garoto', 'numa', 'cadeira', 'de', 'rodas', '.', 'Qual', 'a', 'tua', 'idade', ',', 'garoto', '?', 'Dez', 'anos', '.', 'A', 'minha', 'filha', 'acabou', 'de', 'fazer', 'nove', '.', 'É', 'por', 'esses', 'que', 'nós', 'lutamos', '.', 'Paulo', 'Guedes', ',', 'nós', 'já', 'passamos', 'dos', '60', ',', 'Paulo', ',', 'nós', 'já', 'estamos', 'no', 'lucro', '.', 'Esse', 'é', 'o', 'nosso', 'objetivo', '.', 'Para', 'ele', ',', 'nós', 'todos', 'lutaremos', ',', 'e', 'muito', ',', 'porque', ',', 'para', 'quem', 'acredita', 'em', 'Deus', ',', 'respeito', 'quem', 'não', 'acredita', ',', 'mas', 'para', 'quem', 'acredita', ',', 'a', 'nossa', 'salvação', 'está', 'aqui', ':', 'fazer', 'o', 'bem', 'para', 'o', 'próximo', ',', 'vê-lo', 'sorrindo', 'no', 'futuro', '.', 'Porque', 'nas', 'mãos', 'da', 'sua', 'geração', 'é', 'que', 'estará', ',', 'no', 'futuro', ',', 'o', 'destino', 'do', 'nosso', 'querido', 'Brasil', '.', 'Prezados', 'amigos', ',', 'senhores', 'e', 'senhoras', ',', 'meus', 'amados', '.', 'Muito', 'obrigado', 'pela', 'presença', 'e', 'por', 'vocês', 'também', 'acreditarem', 'no', 'Brasil', '.', 'Deus', 'abençoe', 'a', 'todos', '.']\n"
     ]
    }
   ],
   "source": [
    "# Quebra em palavras\n",
    "tokenized_word = word_tokenize(texto)\n",
    "print(tokenized_word)"
   ]
  },
  {
   "cell_type": "code",
   "execution_count": 6,
   "metadata": {},
   "outputs": [
    {
     "name": "stdout",
     "output_type": "stream",
     "text": [
      "['senhor', 'vice-presidente', 'da', 'república', ',', 'hamilton', 'mourão', '.', 'depois', 'que', 'o', 'onix', 'te', 'chamou', 'de', 'querido', ',', 'eu', 'não', 'vou', 'te', 'chamar', 'de', 'amado', 'não', ',', 'fique', 'tranquilo', '.', 'senhores', 'ministros', ',', 'secretários', ',', 'comandante', 'em', 'exercício', 'do', 'exército', ',', 'meu', 'prezado', 'companheiro', 'de', 'turma', '.', 'é', 'uma', 'satisfação', 'vê-lo', 'aqui', ',', 'general', 'barcellos', ',', 'até', 'porque', 'ele', 'é', 'o', 'último', 'militar', 'na', 'ativa', 'na', 'minha', 'turma', '.', 'e', 'olhando', 'para', 'mim', 'e', 'para', 'ele', ',', 'eu', 'parei', 'como', 'capitão', 'para', 'não', 'perder', 'meus', 'cabelos', '.', 'em', 'nome', 'do', 'qual', 'eu', 'saúdo', 'os', 'demais', 'comandantes', ',', 'autoridades', 'militares', '.', 'senhores', 'governadores', ',', 'senadores', ',', 'deputados', 'federais', ',', 'grandes', 'aliados', 'nosso', 'nessa', 'missão', 'de', 'dar', 'esperança', 'ao', 'nosso', 'povo', 'brasileiro', '.', 'atletas', 'das', 'forças', 'armadas', ',', 'que', 'há', 'pouco', 'estiveram', 'na', 'china', ',', 'muito', 'bem', 'representando', 'o', 'nosso', 'país', '.', 'fui', 'um', 'atleta', 'de', 'nível', 'como', 'o', 'de', 'vocês', ',', 'como', 'vocês', 'são', ',', 'e', 'bem', 'sei', 'do', 'sacrifício', 'dos', 'treinamentos', ',', 'do', 'empenho', ',', 'dedicação', ',', 'do', 'afastamento', 'da', 'família', 'para', 'buscar', 'um', 'sonho', ',', 'um', 'objetivo', '.', 'mas', 'esse', 'nosso', 'querido', 'país', 'chamado', 'brasil', 'é', 'um', 'país', 'que', 'comporta', 'a', 'todos', 'os', 'sonhos', '.', 'vendo', 'aqui', 'o', 'semblante', 'de', 'alguns', 'velhos', 'colegas', 'meus', 'da', 'câmara', ',', 'como', 'o', 'arolde', 'de', 'oliveira', ',', 'também', 'capitão', 'do', 'exército', ',', 'o', 'decano', 'da', 'câmara', ',', 'com', 'toda', 'certeza', ',', 'agora', 'está', 'no', 'senado', '.', 'não', 'é', 'fácil', 'a', 'vida', 'do', 'parlamentar', '.', 'muitas', 'vezes', ',', 'carla', 'zambelli', ',', 'o', 'colega', 'chega', 'lá', 'e', 'quer', 'resolver', 'os', 'problemas', 'do', 'brasil', 'rapidamente', '.', 'já', 'quer', 'logo', 'sentar', 'no', 'ônibus', 'do', 'lado', 'da', 'janela', '.', 'paciência', ',', 'determinação', ',', 'que', 'todos', 'nós', 'podemos', 'atingir', 'os', 'nossos', 'objetivos', '.', 'eu', 'confesso', 'que', 'o', 'meu', 'jamais', 'foi', 'o', 'de', 'ser', 'presidente', 'da', 'república', ',', 'a', 'não', 'ser', 'meu', 'pai', 'lá', 'atrás', ',', 'um', 'homem', 'que', 'era', 'dentista', 'prático', 'e', 'criou', 'sete', 'filhos', ',', 'debulhando', 'a', 'boca', 'de', 'quem', 'sorria', 'perto', 'dele', '.', 'e', 'ele', 'falava', 'que', 'eu', 'seria', 'presidente', '.', 'em', 'especial', ',', 'depois', 'que', 'eu', 'entrei', ',', 'barcellos', ',', 'no', 'nosso', 'exército', 'brasileiro', ',', 'sentamos', 'praça', 'no', 'dia', '8', 'de', 'março', 'de', '[', '19', ']', '74', '.', 'naquela', 'época', ',', '[', '19', ']', '74', ',', 'os', 'militares', 'estavam', 'em', 'alta', ',', 'o', 'brasil', 'crescia', 'quase', '10', '%', 'ao', 'ano', '.', 'tínhamos', 'paz', ',', 'tínhamos', 'prosperidade', ',', 'pleno', 'emprego', '.', 'o', 'brasil', 'voava', '.', 'alguns', 'problemas', 'sempre', 'acontecem', '.', 'acontecem', 'com', 'qualquer', 'um', 'de', 'nós', ',', 'junto', 'a', 'nossa', 'respectiva', 'esposa', ',', 'esposo', 'que', ',', 'de', 'vez', 'em', 'quando', ',', 'tem', 'algum', 'mal-entendido', '.', 'mas', 'no', 'fundo', 'o', 'que', 'nós', 'queremos', 'é', 'fazer', 'algo', 'de', 'útil', 'para', 'o', 'próximo', '.', 'não', 'existe', 'maior', 'satisfação', ',', 'meus', 'deputados', ',', 'prezados', 'senadores', ',', 'do', 'que', 'ser', 'bem', 'recebido', 'pela', 'população', ',', 'não', 'interessa', 'em', 'qual', 'local', 'do', 'brasil', 'ou', 'em', 'que', 'parte', 'do', 'mundo', '.', 'o', 'mundo', 'está', 'de', 'olho', 'em', 'nós', '.', 'nós', 'estamos', 'recuperando', 'a', 'confiança', '.', 'e', 'isso', 'é', 'primordial', '.', 'quando', 'passamos', ',', 'agora', ',', 'até', 'eu', 'lembrei', 'demais', 'do', 'onyx', ',', 'do', 'weintraub', ',', 'porque', 'há', 'dois', 'anos', 'nós', 'passamos', 'pela', 'china', ',', 'ou', 'melhor', ',', 'pelo', 'japão', ',', 'coreia', 'do', 'sul', ',', 'taiwan', ',', 'e', 'fomos', 'ver', 'um', 'pouquinho', 'de', 'como', 'é', 'que', 'vivem', 'aquelas', 'pessoas', '.', 'e', ',', 'olha', 'só', ',', 'eu', 'falei', ',', 'em', 'muitos', 'momentos', 'da', 'vida', ',', 'nas', 'minhas', 'andanças', 'pelo', 'brasil', ',', 'como', 'é', 'duro', 'você', 'ser', 'recebido', 'em', 'outros', 'países', 'com', 'o', 'manto', 'da', 'desconfiança', '.', 'isso', 'acabou', '.', 'na', 'arábia', 'saudita', ',', 'o', 'príncipe', 'herdeiro', ',', 'foi', 'o', 'terceiro', 'contato', 'meu', 'com', 'ele', ',', 'e', 'ele', 'falou', 'que', 'eu', 'não', 'voltaria', ',', 'nós', 'não', 'voltaríamos', 'de', 'mãos', 'abanando', 'para', 'o', 'brasil', '.', 'até', 'aquele', 'momento', ',', 'ele', 'já', 'tinha', 'investido', 'quase', 'us', '$', '200', 'bilhões', 'em', 'alguns', 'países', 'do', 'mundo', ',', 'e', 'tinha', 'investido', 'zero', 'na', 'américa', 'do', 'sul', '.', 'e', ',', 'no', 'dia', 'seguinte', ',', 'o', 'onyx', 'anunciou', 'que', 'ele', 'investirá', ',', 'no', 'brasil', ',', 'us', '$', '10', 'bilhões', '.', 'isso', 'é', 'a', 'confiança', '.', 'eu', 'confio', 'nos', 'meus', '22', 'ministros', '.', 'de', 'vez', 'em', 'quando', ',', 'tem', 'alguma', 'fofoca', 'ou', 'intriga', 'ou', 'fuxico', '.', 'não', 'é', 'isso', ',', 'moro', '?', 'mas', 'a', 'gente', ',', 'entre', 'nós', ',', 'sabemos', 'o', 'que', 'está', 'acontecendo', '.', 'sei', 'do', 'sacrifício', 'de', 'cada', 'um', 'para', 'cumprir', 'a', 'sua', 'missão', '.', 'eu', 'sou', 'apenas', 'o', 'técnico', 'desse', 'time', '.', 'como', 'disse', 'o', 'tarcísio', 'outro', 'dia', ',', 'num', 'programa', 'de', 'televisão', ',', 'que', 'eu', 'mando', 'mensagem', 'para', 'ele', 'meia-noite', 'e', '4h30', 'da', 'manhã', ',', 'é', 'porque', 'não', 'está', 'acordado', 'às', 'duas', ',', 'porque', 'às', 'duas', 'eu', 'também', 'mando', '.', 'é', 'até', 'bom', 'o', 'colega', 'acordar', ',', 'olhar', 'para', 'o', 'lado', 'e', 'falar', ':', '“', 'meu', 'amor', ',', 'eu', 'te', 'amo', '”', '.', 'e', 'levar', 'a', 'sua', 'vida', '.', 'nós', 'procuramos', 'dar', 'o', 'melhor', 'de', 'si', '.', 'por', 'vezes', ',', 'erramos', '.', 'eu', ',', 'na', 'câmara', ',', 'respondi', 'uns', '30', 'processos', 'de', 'cassação', '.', 'eu', 'espero', 'que', 'o', 'meu', 'filho', ',', 'o', 'eduardo', ',', 'não', 'entre', 'nessa', 'linha', 'minha', '.', 'agora', ',', 'em', 'todos', 'os', 'momentos', ',', 'a', 'câmara', 'respeitou', 'o', 'sagrado', 'direito', 'de', 'opinião', ',', 'van', 'hattem', ',', 'o', 'sagrado', 'direito', 'de', 'opinião', '.', 'seja', 'ela', 'qual', 'for', '.', 'se', 'eu', 'fosse', 'deputado', ',', 'não', 'é', ',', 'alguns', 'poderiam', 'achar', 'até', 'que', 'eu', 'devia', 'responder', 'algo', 'no', 'conselho', 'de', 'ética', 'porque', ',', 'nessa', 'viagem', ',', 'em', 'várias', 'oportunidades', ',', 'eu', ',', 'como', 'sendo', 'palmeirense', ',', 'entreguei', 'a', 'camisa', 'do', 'flamengo', 'para', 'as', 'autoridades', 'do', 'outro', 'lado', 'do', 'mundo', ',', 'traindo', 'o', 'meu', 'botafogo', '.', 'mas', ',', 'é', 'a', 'política', '.', 'todos', 'nós', 'vamos', 'torcer', 'para', 'o', 'flamengo', 'na', 'final', '.', 'eu', 'espero', 'até', 'que', 'seja', 'no', 'chile', '.', 'o', 'chile', 'já', 'pacificado', '.', 'e', ',', 'falando', 'em', 'chile', ',', 'meus', 'amigos', ',', 'nós', 'devemos', 'ter', 'a', 'capacidade', 'de', 'se', 'antecipar', 'a', 'problemas', '.', 'nós', 'sabemos', 'que', ',', 'infelizmente', ',', 'aqui', 'no', 'brasil', ',', 'existem', 'alguns', 'maus', 'brasileiros', 'que', 'ficam', 'o', 'tempo', 'todo', 'maquinando', 'como', 'chegar', 'ao', 'poder', ',', 'não', 'interessa', 'por', 'que', 'meios', '.', 'não', 'podemos', 'admitir', 'isso', '.', 'o', 'meu', 'governo', ',', 'eu', 'duvido', 'que', 'não', 'seja', 'um', 'dos', 'mais', 'democráticos', 'dos', 'últimos', 'anos', '.', 'afinal', 'de', 'contas', ',', 'eu', 'nunca', 'falei', 'em', 'controle', 'social', 'da', 'mídia', ',', 'eu', 'nunca', 'falei', 'que', 'a', 'internet', 'deve', 'ser', 'domada', '.', 'eu', 'sempre', 'disse', 'que', ',', 'apesar', 'de', 'ser', 'eu', 'uma', 'das', 'maiores', 'vítimas', 'de', 'fake', 'news', ',', 'até', 'porque', 'se', 'não', 'tivesse', 'fake', 'news', 'por', 'ocasião', 'das', 'eleições', ',', 'eu', 'ganharia', 'no', 'primeiro', 'turno', 'disparado', '.', 'porque', 'outros', 'candidatos', 'não', 'tiveram', 'fake', 'news', ',', 'ou', 'muito', 'pouco', '.', 'então', ',', 'vemos', 'uma', 'cpmi', ',', 'que', 'eu', 'não', 'vou', 'interferir', 'sobre', 'ela', ',', 'a', 'não', 'ser', 'conversando', 'com', 'alguns', 'parlamentares', 'do', 'meu', 'partido', ',', 'eu', 'espero', 'que', 'seja', 'apenas', 'um', 'grande', 'ensinamento', ',', 'essa', 'cpmi', ',', 'para', 'mostrar', 'que', 'se', 'nós', 'viermos', 'a', 'depender', 'apenas', 'de', 'uma', 'imprensa', 'nós', 'corremos', 'o', 'risco', 'de', 'ser', 'réu', 'sem', 'crime', ',', 'de', 'perdermos', 'os', 'nossos', 'direitos', 'sem', 'ter', 'o', 'direito', 'à', 'defesa', '.', 'eu', 'lamento', 'uma', 'grande', 'imprensa', ',', 'no', 'brasil', ',', 'querer', 'colocar', 'no', 'meu', 'colo', 'a', 'execução', 'de', 'uma', 'vereadora', ',', 'porque', 'um', 'dos', 'possíveis', 'executores', 'morava', 'em', 'meu', 'condomínio', '.', 'tem', 'mais', 'gente', 'que', 'deve', 'no', 'meu', 'condomínio', '.', 'são', '150', 'casas', 'lá', 'dentro', '.', 'não', 'é', 'uma', 'imprensa', 'que', 'colabore', 'com', 'o', 'brasil', 'essa', 'que', 'agiu', 'dessa', 'maneira', '.', 'não', 'satisfeita', ',', 'diz', 'agora', ',', 'que', 'tem', 'um', 'segundo', 'porteiro', '.', 'bem', ',', 'não', 'vou', 'entrar', 'em', 'detalhes', '.', 'o', 'meu', 'dedo', 'no', 'painel', 'de', 'presença', ',', 'de', 'votação', ',', 'garante', 'a', 'minha', 'situação', '.', 'e', 'o', 'que', 'é', 'mais', 'importante', ':', 'que', 'motivo', 'eu', 'teria', 'para', 'cometer', 'um', 'ato', 'daqueles', '?', 'estaria', ',', 'primeiro', ',', 'contrariando', 'os', 'meus', 'princípios', 'cristãos', '.', 'e', ',', 'outra', ',', 'no', 'que', 'aquela', 'pessoa', 'me', 'atrapalhava', '?', 'zero', '.', 'lamento', 'pela', 'sua', 'família', ',', 'pelo', 'ocorrido', '.', 'é', 'uma', 'marca', 'que', 'fica', 'no', 'brasil', ',', 'e', 'essa', 'marca', 'não', 'é', 'boa', '.', 'eu', 'espero', ',', 'moro', ',', 'que', 'seja', 'desvendado', 'esse', 'crime', ',', 'se', 'bem', 'que', 'já', 'tem', 'um', 'ano', '.', 'bem', 'como', 'espero', 'que', 'seja', 'desvendado', 'quem', 'tentou', 'matar', 'jair', 'bolsonaro', '.', 'mas', ',', 'o', 'momento', 'aqui', 'é', 'outro', ',', 'indo', 'para', 'o', 'encerramento', '.', 'lá', 'na', 'ponta', 'esquerda', 'da', 'fileira', 'de', 'trás', ',', 'tem', 'um', 'senhor', 'ali', ',', 'numa', 'cadeira', 'de', 'rodas', ',', 'com', 'um', 'boné', 'vermelho', 'no', 'joelho', 'escrito', '“', 'trump', '2020', '”', '.', 'é', 'um', 'herói', 'da', 'guerra', 'do', 'vietnã', '.', 'é', 'um', 'prazer', 'tê-lo', 'entre', 'nós', '.', 'o', 'senhor', 'deu', 'o', 'sangue', 'pelo', 'seu', 'país', '.', 'nós', ',', 'aqui', ',', 'se', 'preciso', 'for', 'dar', 'o', 'sangue', 'pela', 'nossa', 'liberdade', ',', 'nenhum', 'daqui', 'se', 'furtará', 'a', 'essa', 'missão', '.', 'e', 'eu', 'costumo', 'dizer', 'que', 'mais', 'importante', 'que', 'a', 'própria', 'vida', 'é', 'a', 'liberdade', ',', 'porque', 'um', 'homem', 'ou', 'uma', 'mulher', 'sem', 'liberdade', 'não', 'tem', 'vida', '.', 'indo', 'para', 'o', 'encerramento', ',', 'olhando', 'aqui', 'para', 'os', 'meus', 'ministros', ',', 'para', 'meu', 'amado', 'vice-presidente', 'da', 'república', ',', 'muito', 'obrigado', 'a', 'todos', 'vocês', 'por', 'terem', 'aceitado', 'essa', 'missão', '.', 'deputados', 'e', 'senadores', ',', 'muito', 'obrigado', 'por', 'entenderem', 'da', 'situação', 'que', 'se', 'encontrava', 'o', 'país', 'e', 'ter', 'ajudado', ',', 'não', 'ao', 'governo', ',', 'mas', 'o', 'brasil', 'sair', 'dessa', 'crise', '.', 'e', 'olhando', 'aqui', 'para', 'baixo', ',', 'tem', 'um', 'garoto', 'numa', 'cadeira', 'de', 'rodas', '.', 'qual', 'a', 'tua', 'idade', ',', 'garoto', '?', 'dez', 'anos', '.', 'a', 'minha', 'filha', 'acabou', 'de', 'fazer', 'nove', '.', 'é', 'por', 'esses', 'que', 'nós', 'lutamos', '.', 'paulo', 'guedes', ',', 'nós', 'já', 'passamos', 'dos', '60', ',', 'paulo', ',', 'nós', 'já', 'estamos', 'no', 'lucro', '.', 'esse', 'é', 'o', 'nosso', 'objetivo', '.', 'para', 'ele', ',', 'nós', 'todos', 'lutaremos', ',', 'e', 'muito', ',', 'porque', ',', 'para', 'quem', 'acredita', 'em', 'deus', ',', 'respeito', 'quem', 'não', 'acredita', ',', 'mas', 'para', 'quem', 'acredita', ',', 'a', 'nossa', 'salvação', 'está', 'aqui', ':', 'fazer', 'o', 'bem', 'para', 'o', 'próximo', ',', 'vê-lo', 'sorrindo', 'no', 'futuro', '.', 'porque', 'nas', 'mãos', 'da', 'sua', 'geração', 'é', 'que', 'estará', ',', 'no', 'futuro', ',', 'o', 'destino', 'do', 'nosso', 'querido', 'brasil', '.', 'prezados', 'amigos', ',', 'senhores', 'e', 'senhoras', ',', 'meus', 'amados', '.', 'muito', 'obrigado', 'pela', 'presença', 'e', 'por', 'vocês', 'também', 'acreditarem', 'no', 'brasil', '.', 'deus', 'abençoe', 'a', 'todos', '.']\n"
     ]
    }
   ],
   "source": [
    "# Palavras em letras minúsculas\n",
    "tokenized_word2 = [w.lower() for w in tokenized_word]\n",
    "print(tokenized_word2)"
   ]
  },
  {
   "cell_type": "code",
   "execution_count": 7,
   "metadata": {},
   "outputs": [
    {
     "name": "stderr",
     "output_type": "stream",
     "text": [
      "[nltk_data] Downloading package stopwords to\n",
      "[nltk_data]     C:\\Users\\simonato\\AppData\\Roaming\\nltk_data...\n"
     ]
    },
    {
     "name": "stdout",
     "output_type": "stream",
     "text": [
      "{'temos', 'há', 'houvemos', 'fora', 'tivesse', 'nós', 'estivessem', 'este', 'estiver', 'isto', 'lhes', 'estavam', 'hajam', 'estes', 'a', 'dele', 'aquele', 'nossa', 'houveram', 'estávamos', 'tu', 'aquelas', 'uma', 'fossem', 'as', 'eles', 'quem', 'seríamos', 'teve', 'numa', 'até', 'você', 'entre', 'esses', 'dela', 'houveremos', 'seriam', 'essa', 'das', 'minhas', 'houverão', 'tinha', 'sua', 'houverei', 'houverá', 'fôramos', 'dos', 'houveria', 'seja', 'for', 'terá', 'tiverem', 'essas', 'estivera', 'será', 'minha', 'eram', 'na', 'depois', 'são', 'tinham', 'no', 'só', 'houvessem', 'seu', 'hei', 'pelas', 'houvermos', 'houvesse', 'nosso', 'com', 'fosse', 'já', 'estivéramos', 'um', 'tenham', 'tivessem', 'tiveram', 'tínhamos', 'qual', 'ele', 'se', 'estejam', 'haja', 'vocês', 'pelo', 'às', 'era', 'fomos', 'teriam', 'é', 'tenhamos', 'mais', 'sem', 'teria', 'estiveram', 'nossos', 'delas', 'teu', 'estamos', 'houveríamos', 'que', 'estive', 'houvéssemos', 'eu', 'ao', 'meus', 'teus', 'mas', 'estas', 'formos', 'fôssemos', 'elas', 'tém', 'nossas', 'aqueles', 'tivéssemos', 'estão', 'fui', 'e', 'estou', 'estivesse', 'tivemos', 'houveriam', 'tiver', 'houverem', 'somos', 'terão', 'quando', 'da', 'esteja', 'em', 'também', 'serei', 'num', 'tenho', 'tivera', 'meu', 'me', 'tuas', 'sou', 'houve', 'hão', 'estivemos', 'tenha', 'sejam', 'isso', 'estivermos', 'houver', 'sejamos', 'vos', 'estivéssemos', 'serão', 'esteve', 'seremos', 'não', 'terei', 'nas', 'nem', 'teríamos', 'do', 'deles', 'aos', 'de', 'foram', 'te', 'forem', 'foi', 'tivermos', 'os', 'seria', 'éramos', 'teremos', 'ela', 'aquilo', 'tivéramos', 'muito', 'estiverem', 'para', 'seus', 'esta', 'estejamos', 'pela', 'houvera', 'mesmo', 'esse', 'havemos', 'como', 'hajamos', 'estava', 'suas', 'lhe', 'houvéramos', 'está', 'nos', 'tem', 'tive', 'pelos', 'aquela', 'ou', 'à', 'o', 'por', 'tua'}\n"
     ]
    },
    {
     "name": "stderr",
     "output_type": "stream",
     "text": [
      "[nltk_data]   Package stopwords is already up-to-date!\n"
     ]
    }
   ],
   "source": [
    "# Aqui, vamos retirar as chamadas stopwords (conjuncoes, preposicoes, palavras que não nos interessam)\n",
    "# 1) Vamos ver quais stopwords ja existem na biblioteca\n",
    "from nltk.corpus import stopwords\n",
    "nltk.download('stopwords')\n",
    "stop_words = set(stopwords.words('portuguese'))\n",
    "print(stop_words)"
   ]
  },
  {
   "cell_type": "code",
   "execution_count": 8,
   "metadata": {},
   "outputs": [
    {
     "name": "stdout",
     "output_type": "stream",
     "text": [
      "{'temos', 'droga', 'há', 'houvemos', 'fora', 'tivesse', 'nós', 'estivessem', 'este', 'estiver', 'isto', 'lhes', 'estavam', 'hajam', 'estes', 'a', 'dele', 'aquele', 'nossa', 'houveram', 'estávamos', 'tu', 'bbbbbbbbbbbbbbb', 'aquelas', 'uma', 'fossem', 'as', 'eles', 'quem', 'seríamos', 'teve', 'numa', 'até', 'você', 'entre', 'esses', 'dela', 'houveremos', 'seriam', 'essa', 'das', 'minhas', 'houverão', 'tinha', 'sua', 'houverei', 'houverá', 'fôramos', 'dos', 'houveria', 'seja', 'for', '-', 'terá', 'tiverem', 'essas', 'estivera', 'será', 'minha', 'eram', 'na', 'depois', 'são', 'tinham', 'no', 'só', 'houvessem', 'seu', 'hei', 'drogas', 'pelas', 'houvermos', 'houvesse', 'nosso', 'com', 'fosse', 'já', 'estivéramos', 'um', 'tenham', 'tivessem', 'tiveram', 'tínhamos', 'qual', ':', 'ele', 'se', 'estejam', 'haja', 'vocês', 'http', 'pelo', 'às', 'era', 'fomos', 'teriam', 'é', 'tenhamos', 'mais', 'sem', 'teria', 'estiveram', 'nossos', 'delas', 'teu', 'estamos', 'houveríamos', 'que', 'estive', 'houvéssemos', 'eu', 'ao', 'meus', 'teus', 'mas', 'estas', 'formos', 'fôssemos', 'elas', 'tém', 'nossas', '%', 'aqueles', 'tivéssemos', 'estão', 'fui', 'art.', 'e', 'estou', 'estivesse', 'tivemos', 'houveriam', 'tiver', 'houverem', 'somos', 'terão', 'quando', 'da', 'esteja', 'em', 'também', 'serei', 'num', 'uso', 'tenho', 'tivera', '–', 'meu', 'me', 'tuas', 'sou', 'houve', 'hão', 'estivemos', 'tenha', 'sejam', 'isso', 'estivermos', 'houver', 'sejamos', 'vos', '.', 'estivéssemos', 'serão', ',', 'esteve', 'seremos', 'não', 'terei', 'nas', 'nem', 'teríamos', 'do', 'deles', 'aos', 'de', 'foram', 'te', 'forem', 'foi', 'tivermos', 'os', 'seria', 'éramos', 'teremos', 'ela', 'aquilo', 'tivéramos', 'muito', 'estiverem', ';', 'para', 'seus', 'esta', 'estejamos', 'pela', 'houvera', 'mesmo', 'esse', 'havemos', 'como', 'hajamos', 'estava', 'suas', 'lhe', 'houvéramos', 'está', 'nos', 'tem', 'tive', 'pelos', 'aquela', 'ou', 'à', 'o', 'por', 'tua'}\n"
     ]
    }
   ],
   "source": [
    "# 2) Vamos adicionar novas stopwords\n",
    "# coloquei o 'bbbbbbbbbbb' porque ficava mais facil pra ver se deu certo a lista de stopwords depois\n",
    "stop_words.update(('uso',',',';','%','.',':','bbbbbbbbbbbbbbb','-','droga','drogas','art.','–','http'))\n",
    "print(stop_words)"
   ]
  },
  {
   "cell_type": "code",
   "execution_count": 9,
   "metadata": {},
   "outputs": [],
   "source": [
    "# Remover essas stopwords\n",
    "tokenized_word_3 = []\n",
    "for w in tokenized_word2:\n",
    "    if w not in stop_words:\n",
    "        tokenized_word_3.append(w)"
   ]
  },
  {
   "cell_type": "code",
   "execution_count": 10,
   "metadata": {},
   "outputs": [],
   "source": [
    "# se quiser comparar o antes e depois da remoção das stopwords\n",
    "#print(\"Tokenized Word:\",tokenized_word)\n",
    "#print(\"Filterd Word:\",tokenized_word_3)"
   ]
  },
  {
   "cell_type": "code",
   "execution_count": 11,
   "metadata": {},
   "outputs": [
    {
     "data": {
      "text/plain": [
       "[('brasil', 15),\n",
       " ('porque', 11),\n",
       " ('aqui', 8),\n",
       " ('ser', 8),\n",
       " ('bem', 7),\n",
       " ('todos', 7),\n",
       " ('alguns', 6),\n",
       " ('país', 5),\n",
       " ('vida', 5),\n",
       " ('espero', 5),\n",
       " ('missão', 4),\n",
       " ('câmara', 4),\n",
       " ('agora', 4),\n",
       " ('lá', 4),\n",
       " ('mundo', 4),\n",
       " ('?', 4),\n",
       " ('senhor', 3),\n",
       " ('república', 3),\n",
       " ('querido', 3),\n",
       " ('vou', 3)]"
      ]
     },
     "execution_count": 11,
     "metadata": {},
     "output_type": "execute_result"
    }
   ],
   "source": [
    "# Analisa a distribuição das palavras\n",
    "from nltk.probability import FreqDist\n",
    "fdist = FreqDist(tokenized_word_3)\n",
    "fdist.most_common(20)"
   ]
  },
  {
   "cell_type": "code",
   "execution_count": 12,
   "metadata": {},
   "outputs": [
    {
     "data": {
      "text/plain": [
       "<Figure size 640x480 with 1 Axes>"
      ]
     },
     "metadata": {},
     "output_type": "display_data"
    },
    {
     "data": {
      "text/plain": [
       "<matplotlib.axes._subplots.AxesSubplot at 0x2750329ca08>"
      ]
     },
     "execution_count": 12,
     "metadata": {},
     "output_type": "execute_result"
    }
   ],
   "source": [
    "# Gráfico de distribuiçao de palavras\n",
    "import matplotlib.pyplot as plt\n",
    "plt.figure()\n",
    "fdist.plot(20,cumulative=False)"
   ]
  },
  {
   "cell_type": "code",
   "execution_count": 13,
   "metadata": {},
   "outputs": [
    {
     "data": {
      "text/plain": [
       "<wordcloud.wordcloud.WordCloud at 0x275036a6e08>"
      ]
     },
     "execution_count": 13,
     "metadata": {},
     "output_type": "execute_result"
    }
   ],
   "source": [
    "# Wordcloud\n",
    "wc = WordCloud()\n",
    "img = wc.generate_from_text(' '.join(tokenized_word_3))\n",
    "img.to_file('300.jpeg')"
   ]
  },
  {
   "cell_type": "code",
   "execution_count": null,
   "metadata": {},
   "outputs": [],
   "source": []
  }
 ],
 "metadata": {
  "kernelspec": {
   "display_name": "Python 3",
   "language": "python",
   "name": "python3"
  },
  "language_info": {
   "codemirror_mode": {
    "name": "ipython",
    "version": 3
   },
   "file_extension": ".py",
   "mimetype": "text/x-python",
   "name": "python",
   "nbconvert_exporter": "python",
   "pygments_lexer": "ipython3",
   "version": "3.7.4"
  }
 },
 "nbformat": 4,
 "nbformat_minor": 2
}
