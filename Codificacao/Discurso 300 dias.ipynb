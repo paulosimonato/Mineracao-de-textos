{
 "cells": [
  {
   "cell_type": "code",
   "execution_count": 1,
   "metadata": {},
   "outputs": [
    {
     "name": "stderr",
     "output_type": "stream",
     "text": [
      "[nltk_data] Downloading package punkt to\n",
      "[nltk_data]     C:\\Users\\simonato\\AppData\\Roaming\\nltk_data...\n",
      "[nltk_data]   Package punkt is already up-to-date!\n"
     ]
    }
   ],
   "source": [
    "# Carrega as bibliotecas\n",
    "#!pip install nltk\n",
    "import nltk\n",
    "from nltk.tokenize import sent_tokenize\n",
    "nltk.download('punkt')\n",
    "from nltk.tokenize import word_tokenize"
   ]
  },
  {
   "cell_type": "code",
   "execution_count": 2,
   "metadata": {},
   "outputs": [],
   "source": [
    "import numpy as np\n",
    "import pandas as pd\n",
    "from os import path\n",
    "from PIL import Image"
   ]
  },
  {
   "cell_type": "code",
   "execution_count": 4,
   "metadata": {},
   "outputs": [
    {
     "name": "stdout",
     "output_type": "stream",
     "text": [
      "Collecting wordcloud\n",
      "  Downloading https://files.pythonhosted.org/packages/96/36/f712ec19c6e253d27c5cae0d45a4a465ebb5ccf0cb26887a6a3127d13769/wordcloud-1.6.0-cp37-cp37m-win_amd64.whl (153kB)\n",
      "Requirement already satisfied: pillow in c:\\users\\simonato\\anaconda3\\lib\\site-packages (from wordcloud) (6.2.0)\n",
      "Requirement already satisfied: numpy>=1.6.1 in c:\\users\\simonato\\anaconda3\\lib\\site-packages (from wordcloud) (1.16.5)\n",
      "Requirement already satisfied: matplotlib in c:\\users\\simonato\\anaconda3\\lib\\site-packages (from wordcloud) (3.1.1)\n",
      "Requirement already satisfied: cycler>=0.10 in c:\\users\\simonato\\anaconda3\\lib\\site-packages (from matplotlib->wordcloud) (0.10.0)\n",
      "Requirement already satisfied: kiwisolver>=1.0.1 in c:\\users\\simonato\\anaconda3\\lib\\site-packages (from matplotlib->wordcloud) (1.1.0)\n",
      "Requirement already satisfied: pyparsing!=2.0.4,!=2.1.2,!=2.1.6,>=2.0.1 in c:\\users\\simonato\\anaconda3\\lib\\site-packages (from matplotlib->wordcloud) (2.4.2)\n",
      "Requirement already satisfied: python-dateutil>=2.1 in c:\\users\\simonato\\anaconda3\\lib\\site-packages (from matplotlib->wordcloud) (2.8.0)\n",
      "Requirement already satisfied: six in c:\\users\\simonato\\anaconda3\\lib\\site-packages (from cycler>=0.10->matplotlib->wordcloud) (1.12.0)\n",
      "Requirement already satisfied: setuptools in c:\\users\\simonato\\anaconda3\\lib\\site-packages (from kiwisolver>=1.0.1->matplotlib->wordcloud) (41.4.0)\n",
      "Installing collected packages: wordcloud\n",
      "Successfully installed wordcloud-1.6.0\n"
     ]
    }
   ],
   "source": [
    "#!pip install wordcloud\n",
    "from wordcloud import WordCloud, STOPWORDS, ImageColorGenerator"
   ]
  },
  {
   "cell_type": "code",
   "execution_count": 5,
   "metadata": {},
   "outputs": [
    {
     "name": "stdout",
     "output_type": "stream",
     "text": [
      "\"Amigas e amigos de todo o Brasil,\n",
      "\n",
      "É com humildade e honra que me dirijo a todos vocês como Presidente do Brasil.\n",
      "\n",
      "E me coloco diante de toda a nação, neste dia, como o dia em que o povo começou a se libertar do socialismo, da inversão de valores, do gigantismo estatal e do politicamente correto.\n",
      "\n",
      "As eleições deram voz a quem não era ouvido.\n",
      "\n",
      "E a voz das ruas e das urnas foi muito clara.\n",
      "\n",
      "E eu estou aqui para responder e, mais uma vez, me comprometer com esse desejo de mudança.\n",
      "\n",
      "Também estou aqui para renovar nossas esperanças e lembrar que, se trabalharmos juntos, essa mudança será possível.\n",
      "\n",
      "Respeitando os princípios do estado democrático de direito, guiados por nossa Constituição e com Deus no coração, a partir de hoje, vamos colocar em prática o projeto que a maioria do povo brasileiro democraticamente escolheu, vamos promover as transformações de que o país precisa.\n",
      "\n",
      "Temos recursos minerais abundantes, terras férteis abençoadas por Deus e um povo maravilhoso.\n",
      "\n",
      "Temos uma grande nação para reconstruir e isso faremos juntos.\n",
      "\n",
      "Os primeiros passos já foram dados.\n",
      "\n",
      "Graças a vocês, eu fui eleito com a campanha mais barata da história.\n",
      "\n",
      "Graças a vocês, conseguimos montar um governo sem conchavos ou acertos políticos, formamos um time de ministros técnicos e capazes para transformar nosso Brasil. Mas ainda há muitos desafios pela frente.\n",
      "\n",
      "Não podemos deixar que ideologias nefastas venham a dividir os brasileiros. Ideologias que destroem nossos valores e tradições, destroem nossas famílias, alicerce da nossa sociedade.\n",
      "\n",
      "E convido a todos para iniciarmos um movimento nesse sentido. Podemos, eu, você e as nossas famílias, todos juntos, reestabelecer padrões éticos e morais que transformarão nosso Brasil.\n",
      "\n",
      "A corrupção, os privilégios e as vantagens precisam acabar. Os favores politizados, partidarizados devem ficar no passado, para que o Governo e a economia sirvam de verdade a toda Nação.\n",
      "\n",
      "Tudo o que propusemos e tudo o que faremos a partir de agora tem um propósito comum e inegociável: os interesses dos brasileiros em primeiro lugar.\n",
      "\n",
      "O brasileiro pode e deve sonhar. Sonhar com uma vida melhor, com melhores condições para usufruir do fruto do seu trabalho pela meritocracia. E ao governo cabe ser honesto e eficiente.\n",
      "\n",
      "Apoiando e pavimentando o caminho que nos levará a um futuro melhor, ao invés de criar pedágios e barreiras.\n",
      "\n",
      "Com este propósito iniciamos nossa caminhada. E com este espírito e determinação que toda equipe de governo assume no dia de hoje.\n",
      "\n",
      "Temos o grande desafio de enfrentar os efeitos da crise econômica, do desemprego recorde, da ideologização de nossas crianças, do desvirtuamento dos direitos humanos, e da desconstrução da família.\n",
      "\n",
      "Vamos propor e implementar as reformas necessárias. Vamos ampliar infraestruturas, desburocratizar, simplificar, tirar a desconfiança e o peso do Governo sobre quem trabalha e quem produz.\n",
      "\n",
      "Também é urgente acabar com a ideologia que defende bandidos e criminaliza policiais, que levou o Brasil a viver o aumento dos índices de violência e do poder do crime organizado, que tira vidas de inocentes, destrói famílias e leva a insegurança a todos os lugares.\n",
      "\n",
      "Nossa preocupação será com a segurança das pessoas de bem e a garantia do direito de propriedade e da legítima defesa, e o nosso compromisso é valorizar e dar respaldo ao trabalho de todas as forças de segurança.\n",
      "\n",
      "Pela primeira vez, o Brasil irá priorizar a educação básica, que é a que realmente transforma o presente e o futuro de nossos filhos e netos, diminuindo a desigualdade social.\n",
      "\n",
      "Temos que nos espelhar em nações que são exemplos para o mundo e que por meio da educação encontraram o caminho da prosperidade.\n",
      "\n",
      "Vamos retirar o viés ideológico de nossas relações internacionais.\n",
      "\n",
      "Vamos em busca de um novo tempo para o Brasil e os brasileiros!\n",
      "\n",
      "Por muito tempo, o país foi governado atendendo a interesses partidários que não o dos brasileiros. Vamos restabelecer a ordem neste país.\n",
      "\n",
      "Sabemos do tamanho da nossa responsabilidade e dos desafios que vamos enfrentar. Mas sabemos aonde queremos chegar e do potencial que o nosso Brasil tem. Por isso vamos dia e noite perseguir o objetivo de tornar o nosso país um lugar próspero e seguro para os nossos cidadãos e uma das maiores nações do planeta.\n",
      "\n",
      "Podem contar com toda a minha dedicação para construir o Brasil dos nossos sonhos.\n",
      "\n",
      "Agradeço a Deus por estar vivo e a vocês que oraram por mim e por minha saúde nos momentos mais difíceis.\n",
      "\n",
      "Peço ao bom Deus que nos dê sabedoria para conduzir a nação.\n",
      "\n",
      "Que Deus abençoe esta grande nação.\n",
      "\n",
      "Brasil acima de tudo, Deus acima de todos.\"\n",
      "\n",
      "<class 'str'>\n"
     ]
    }
   ],
   "source": [
    "# Carregar arquivo de texto\n",
    "f = open('bozo.txt', 'r')\n",
    "texto = ''\n",
    "while 1:\n",
    "    line = f.readline()\n",
    "    if not line: break\n",
    "    texto += line\n",
    "f.close()\n",
    "\n",
    "print(texto)\n",
    "print(type(texto))"
   ]
  },
  {
   "cell_type": "code",
   "execution_count": 6,
   "metadata": {},
   "outputs": [
    {
     "name": "stdout",
     "output_type": "stream",
     "text": [
      "['``', 'Amigas', 'e', 'amigos', 'de', 'todo', 'o', 'Brasil', ',', 'É', 'com', 'humildade', 'e', 'honra', 'que', 'me', 'dirijo', 'a', 'todos', 'vocês', 'como', 'Presidente', 'do', 'Brasil', '.', 'E', 'me', 'coloco', 'diante', 'de', 'toda', 'a', 'nação', ',', 'neste', 'dia', ',', 'como', 'o', 'dia', 'em', 'que', 'o', 'povo', 'começou', 'a', 'se', 'libertar', 'do', 'socialismo', ',', 'da', 'inversão', 'de', 'valores', ',', 'do', 'gigantismo', 'estatal', 'e', 'do', 'politicamente', 'correto', '.', 'As', 'eleições', 'deram', 'voz', 'a', 'quem', 'não', 'era', 'ouvido', '.', 'E', 'a', 'voz', 'das', 'ruas', 'e', 'das', 'urnas', 'foi', 'muito', 'clara', '.', 'E', 'eu', 'estou', 'aqui', 'para', 'responder', 'e', ',', 'mais', 'uma', 'vez', ',', 'me', 'comprometer', 'com', 'esse', 'desejo', 'de', 'mudança', '.', 'Também', 'estou', 'aqui', 'para', 'renovar', 'nossas', 'esperanças', 'e', 'lembrar', 'que', ',', 'se', 'trabalharmos', 'juntos', ',', 'essa', 'mudança', 'será', 'possível', '.', 'Respeitando', 'os', 'princípios', 'do', 'estado', 'democrático', 'de', 'direito', ',', 'guiados', 'por', 'nossa', 'Constituição', 'e', 'com', 'Deus', 'no', 'coração', ',', 'a', 'partir', 'de', 'hoje', ',', 'vamos', 'colocar', 'em', 'prática', 'o', 'projeto', 'que', 'a', 'maioria', 'do', 'povo', 'brasileiro', 'democraticamente', 'escolheu', ',', 'vamos', 'promover', 'as', 'transformações', 'de', 'que', 'o', 'país', 'precisa', '.', 'Temos', 'recursos', 'minerais', 'abundantes', ',', 'terras', 'férteis', 'abençoadas', 'por', 'Deus', 'e', 'um', 'povo', 'maravilhoso', '.', 'Temos', 'uma', 'grande', 'nação', 'para', 'reconstruir', 'e', 'isso', 'faremos', 'juntos', '.', 'Os', 'primeiros', 'passos', 'já', 'foram', 'dados', '.', 'Graças', 'a', 'vocês', ',', 'eu', 'fui', 'eleito', 'com', 'a', 'campanha', 'mais', 'barata', 'da', 'história', '.', 'Graças', 'a', 'vocês', ',', 'conseguimos', 'montar', 'um', 'governo', 'sem', 'conchavos', 'ou', 'acertos', 'políticos', ',', 'formamos', 'um', 'time', 'de', 'ministros', 'técnicos', 'e', 'capazes', 'para', 'transformar', 'nosso', 'Brasil', '.', 'Mas', 'ainda', 'há', 'muitos', 'desafios', 'pela', 'frente', '.', 'Não', 'podemos', 'deixar', 'que', 'ideologias', 'nefastas', 'venham', 'a', 'dividir', 'os', 'brasileiros', '.', 'Ideologias', 'que', 'destroem', 'nossos', 'valores', 'e', 'tradições', ',', 'destroem', 'nossas', 'famílias', ',', 'alicerce', 'da', 'nossa', 'sociedade', '.', 'E', 'convido', 'a', 'todos', 'para', 'iniciarmos', 'um', 'movimento', 'nesse', 'sentido', '.', 'Podemos', ',', 'eu', ',', 'você', 'e', 'as', 'nossas', 'famílias', ',', 'todos', 'juntos', ',', 'reestabelecer', 'padrões', 'éticos', 'e', 'morais', 'que', 'transformarão', 'nosso', 'Brasil', '.', 'A', 'corrupção', ',', 'os', 'privilégios', 'e', 'as', 'vantagens', 'precisam', 'acabar', '.', 'Os', 'favores', 'politizados', ',', 'partidarizados', 'devem', 'ficar', 'no', 'passado', ',', 'para', 'que', 'o', 'Governo', 'e', 'a', 'economia', 'sirvam', 'de', 'verdade', 'a', 'toda', 'Nação', '.', 'Tudo', 'o', 'que', 'propusemos', 'e', 'tudo', 'o', 'que', 'faremos', 'a', 'partir', 'de', 'agora', 'tem', 'um', 'propósito', 'comum', 'e', 'inegociável', ':', 'os', 'interesses', 'dos', 'brasileiros', 'em', 'primeiro', 'lugar', '.', 'O', 'brasileiro', 'pode', 'e', 'deve', 'sonhar', '.', 'Sonhar', 'com', 'uma', 'vida', 'melhor', ',', 'com', 'melhores', 'condições', 'para', 'usufruir', 'do', 'fruto', 'do', 'seu', 'trabalho', 'pela', 'meritocracia', '.', 'E', 'ao', 'governo', 'cabe', 'ser', 'honesto', 'e', 'eficiente', '.', 'Apoiando', 'e', 'pavimentando', 'o', 'caminho', 'que', 'nos', 'levará', 'a', 'um', 'futuro', 'melhor', ',', 'ao', 'invés', 'de', 'criar', 'pedágios', 'e', 'barreiras', '.', 'Com', 'este', 'propósito', 'iniciamos', 'nossa', 'caminhada', '.', 'E', 'com', 'este', 'espírito', 'e', 'determinação', 'que', 'toda', 'equipe', 'de', 'governo', 'assume', 'no', 'dia', 'de', 'hoje', '.', 'Temos', 'o', 'grande', 'desafio', 'de', 'enfrentar', 'os', 'efeitos', 'da', 'crise', 'econômica', ',', 'do', 'desemprego', 'recorde', ',', 'da', 'ideologização', 'de', 'nossas', 'crianças', ',', 'do', 'desvirtuamento', 'dos', 'direitos', 'humanos', ',', 'e', 'da', 'desconstrução', 'da', 'família', '.', 'Vamos', 'propor', 'e', 'implementar', 'as', 'reformas', 'necessárias', '.', 'Vamos', 'ampliar', 'infraestruturas', ',', 'desburocratizar', ',', 'simplificar', ',', 'tirar', 'a', 'desconfiança', 'e', 'o', 'peso', 'do', 'Governo', 'sobre', 'quem', 'trabalha', 'e', 'quem', 'produz', '.', 'Também', 'é', 'urgente', 'acabar', 'com', 'a', 'ideologia', 'que', 'defende', 'bandidos', 'e', 'criminaliza', 'policiais', ',', 'que', 'levou', 'o', 'Brasil', 'a', 'viver', 'o', 'aumento', 'dos', 'índices', 'de', 'violência', 'e', 'do', 'poder', 'do', 'crime', 'organizado', ',', 'que', 'tira', 'vidas', 'de', 'inocentes', ',', 'destrói', 'famílias', 'e', 'leva', 'a', 'insegurança', 'a', 'todos', 'os', 'lugares', '.', 'Nossa', 'preocupação', 'será', 'com', 'a', 'segurança', 'das', 'pessoas', 'de', 'bem', 'e', 'a', 'garantia', 'do', 'direito', 'de', 'propriedade', 'e', 'da', 'legítima', 'defesa', ',', 'e', 'o', 'nosso', 'compromisso', 'é', 'valorizar', 'e', 'dar', 'respaldo', 'ao', 'trabalho', 'de', 'todas', 'as', 'forças', 'de', 'segurança', '.', 'Pela', 'primeira', 'vez', ',', 'o', 'Brasil', 'irá', 'priorizar', 'a', 'educação', 'básica', ',', 'que', 'é', 'a', 'que', 'realmente', 'transforma', 'o', 'presente', 'e', 'o', 'futuro', 'de', 'nossos', 'filhos', 'e', 'netos', ',', 'diminuindo', 'a', 'desigualdade', 'social', '.', 'Temos', 'que', 'nos', 'espelhar', 'em', 'nações', 'que', 'são', 'exemplos', 'para', 'o', 'mundo', 'e', 'que', 'por', 'meio', 'da', 'educação', 'encontraram', 'o', 'caminho', 'da', 'prosperidade', '.', 'Vamos', 'retirar', 'o', 'viés', 'ideológico', 'de', 'nossas', 'relações', 'internacionais', '.', 'Vamos', 'em', 'busca', 'de', 'um', 'novo', 'tempo', 'para', 'o', 'Brasil', 'e', 'os', 'brasileiros', '!', 'Por', 'muito', 'tempo', ',', 'o', 'país', 'foi', 'governado', 'atendendo', 'a', 'interesses', 'partidários', 'que', 'não', 'o', 'dos', 'brasileiros', '.', 'Vamos', 'restabelecer', 'a', 'ordem', 'neste', 'país', '.', 'Sabemos', 'do', 'tamanho', 'da', 'nossa', 'responsabilidade', 'e', 'dos', 'desafios', 'que', 'vamos', 'enfrentar', '.', 'Mas', 'sabemos', 'aonde', 'queremos', 'chegar', 'e', 'do', 'potencial', 'que', 'o', 'nosso', 'Brasil', 'tem', '.', 'Por', 'isso', 'vamos', 'dia', 'e', 'noite', 'perseguir', 'o', 'objetivo', 'de', 'tornar', 'o', 'nosso', 'país', 'um', 'lugar', 'próspero', 'e', 'seguro', 'para', 'os', 'nossos', 'cidadãos', 'e', 'uma', 'das', 'maiores', 'nações', 'do', 'planeta', '.', 'Podem', 'contar', 'com', 'toda', 'a', 'minha', 'dedicação', 'para', 'construir', 'o', 'Brasil', 'dos', 'nossos', 'sonhos', '.', 'Agradeço', 'a', 'Deus', 'por', 'estar', 'vivo', 'e', 'a', 'vocês', 'que', 'oraram', 'por', 'mim', 'e', 'por', 'minha', 'saúde', 'nos', 'momentos', 'mais', 'difíceis', '.', 'Peço', 'ao', 'bom', 'Deus', 'que', 'nos', 'dê', 'sabedoria', 'para', 'conduzir', 'a', 'nação', '.', 'Que', 'Deus', 'abençoe', 'esta', 'grande', 'nação', '.', 'Brasil', 'acima', 'de', 'tudo', ',', 'Deus', 'acima', 'de', 'todos', '.', \"''\"]\n"
     ]
    }
   ],
   "source": [
    "# Quebra em palavras\n",
    "tokenized_word = word_tokenize(texto)\n",
    "print(tokenized_word)"
   ]
  },
  {
   "cell_type": "code",
   "execution_count": 7,
   "metadata": {},
   "outputs": [
    {
     "name": "stdout",
     "output_type": "stream",
     "text": [
      "['``', 'amigas', 'e', 'amigos', 'de', 'todo', 'o', 'brasil', ',', 'é', 'com', 'humildade', 'e', 'honra', 'que', 'me', 'dirijo', 'a', 'todos', 'vocês', 'como', 'presidente', 'do', 'brasil', '.', 'e', 'me', 'coloco', 'diante', 'de', 'toda', 'a', 'nação', ',', 'neste', 'dia', ',', 'como', 'o', 'dia', 'em', 'que', 'o', 'povo', 'começou', 'a', 'se', 'libertar', 'do', 'socialismo', ',', 'da', 'inversão', 'de', 'valores', ',', 'do', 'gigantismo', 'estatal', 'e', 'do', 'politicamente', 'correto', '.', 'as', 'eleições', 'deram', 'voz', 'a', 'quem', 'não', 'era', 'ouvido', '.', 'e', 'a', 'voz', 'das', 'ruas', 'e', 'das', 'urnas', 'foi', 'muito', 'clara', '.', 'e', 'eu', 'estou', 'aqui', 'para', 'responder', 'e', ',', 'mais', 'uma', 'vez', ',', 'me', 'comprometer', 'com', 'esse', 'desejo', 'de', 'mudança', '.', 'também', 'estou', 'aqui', 'para', 'renovar', 'nossas', 'esperanças', 'e', 'lembrar', 'que', ',', 'se', 'trabalharmos', 'juntos', ',', 'essa', 'mudança', 'será', 'possível', '.', 'respeitando', 'os', 'princípios', 'do', 'estado', 'democrático', 'de', 'direito', ',', 'guiados', 'por', 'nossa', 'constituição', 'e', 'com', 'deus', 'no', 'coração', ',', 'a', 'partir', 'de', 'hoje', ',', 'vamos', 'colocar', 'em', 'prática', 'o', 'projeto', 'que', 'a', 'maioria', 'do', 'povo', 'brasileiro', 'democraticamente', 'escolheu', ',', 'vamos', 'promover', 'as', 'transformações', 'de', 'que', 'o', 'país', 'precisa', '.', 'temos', 'recursos', 'minerais', 'abundantes', ',', 'terras', 'férteis', 'abençoadas', 'por', 'deus', 'e', 'um', 'povo', 'maravilhoso', '.', 'temos', 'uma', 'grande', 'nação', 'para', 'reconstruir', 'e', 'isso', 'faremos', 'juntos', '.', 'os', 'primeiros', 'passos', 'já', 'foram', 'dados', '.', 'graças', 'a', 'vocês', ',', 'eu', 'fui', 'eleito', 'com', 'a', 'campanha', 'mais', 'barata', 'da', 'história', '.', 'graças', 'a', 'vocês', ',', 'conseguimos', 'montar', 'um', 'governo', 'sem', 'conchavos', 'ou', 'acertos', 'políticos', ',', 'formamos', 'um', 'time', 'de', 'ministros', 'técnicos', 'e', 'capazes', 'para', 'transformar', 'nosso', 'brasil', '.', 'mas', 'ainda', 'há', 'muitos', 'desafios', 'pela', 'frente', '.', 'não', 'podemos', 'deixar', 'que', 'ideologias', 'nefastas', 'venham', 'a', 'dividir', 'os', 'brasileiros', '.', 'ideologias', 'que', 'destroem', 'nossos', 'valores', 'e', 'tradições', ',', 'destroem', 'nossas', 'famílias', ',', 'alicerce', 'da', 'nossa', 'sociedade', '.', 'e', 'convido', 'a', 'todos', 'para', 'iniciarmos', 'um', 'movimento', 'nesse', 'sentido', '.', 'podemos', ',', 'eu', ',', 'você', 'e', 'as', 'nossas', 'famílias', ',', 'todos', 'juntos', ',', 'reestabelecer', 'padrões', 'éticos', 'e', 'morais', 'que', 'transformarão', 'nosso', 'brasil', '.', 'a', 'corrupção', ',', 'os', 'privilégios', 'e', 'as', 'vantagens', 'precisam', 'acabar', '.', 'os', 'favores', 'politizados', ',', 'partidarizados', 'devem', 'ficar', 'no', 'passado', ',', 'para', 'que', 'o', 'governo', 'e', 'a', 'economia', 'sirvam', 'de', 'verdade', 'a', 'toda', 'nação', '.', 'tudo', 'o', 'que', 'propusemos', 'e', 'tudo', 'o', 'que', 'faremos', 'a', 'partir', 'de', 'agora', 'tem', 'um', 'propósito', 'comum', 'e', 'inegociável', ':', 'os', 'interesses', 'dos', 'brasileiros', 'em', 'primeiro', 'lugar', '.', 'o', 'brasileiro', 'pode', 'e', 'deve', 'sonhar', '.', 'sonhar', 'com', 'uma', 'vida', 'melhor', ',', 'com', 'melhores', 'condições', 'para', 'usufruir', 'do', 'fruto', 'do', 'seu', 'trabalho', 'pela', 'meritocracia', '.', 'e', 'ao', 'governo', 'cabe', 'ser', 'honesto', 'e', 'eficiente', '.', 'apoiando', 'e', 'pavimentando', 'o', 'caminho', 'que', 'nos', 'levará', 'a', 'um', 'futuro', 'melhor', ',', 'ao', 'invés', 'de', 'criar', 'pedágios', 'e', 'barreiras', '.', 'com', 'este', 'propósito', 'iniciamos', 'nossa', 'caminhada', '.', 'e', 'com', 'este', 'espírito', 'e', 'determinação', 'que', 'toda', 'equipe', 'de', 'governo', 'assume', 'no', 'dia', 'de', 'hoje', '.', 'temos', 'o', 'grande', 'desafio', 'de', 'enfrentar', 'os', 'efeitos', 'da', 'crise', 'econômica', ',', 'do', 'desemprego', 'recorde', ',', 'da', 'ideologização', 'de', 'nossas', 'crianças', ',', 'do', 'desvirtuamento', 'dos', 'direitos', 'humanos', ',', 'e', 'da', 'desconstrução', 'da', 'família', '.', 'vamos', 'propor', 'e', 'implementar', 'as', 'reformas', 'necessárias', '.', 'vamos', 'ampliar', 'infraestruturas', ',', 'desburocratizar', ',', 'simplificar', ',', 'tirar', 'a', 'desconfiança', 'e', 'o', 'peso', 'do', 'governo', 'sobre', 'quem', 'trabalha', 'e', 'quem', 'produz', '.', 'também', 'é', 'urgente', 'acabar', 'com', 'a', 'ideologia', 'que', 'defende', 'bandidos', 'e', 'criminaliza', 'policiais', ',', 'que', 'levou', 'o', 'brasil', 'a', 'viver', 'o', 'aumento', 'dos', 'índices', 'de', 'violência', 'e', 'do', 'poder', 'do', 'crime', 'organizado', ',', 'que', 'tira', 'vidas', 'de', 'inocentes', ',', 'destrói', 'famílias', 'e', 'leva', 'a', 'insegurança', 'a', 'todos', 'os', 'lugares', '.', 'nossa', 'preocupação', 'será', 'com', 'a', 'segurança', 'das', 'pessoas', 'de', 'bem', 'e', 'a', 'garantia', 'do', 'direito', 'de', 'propriedade', 'e', 'da', 'legítima', 'defesa', ',', 'e', 'o', 'nosso', 'compromisso', 'é', 'valorizar', 'e', 'dar', 'respaldo', 'ao', 'trabalho', 'de', 'todas', 'as', 'forças', 'de', 'segurança', '.', 'pela', 'primeira', 'vez', ',', 'o', 'brasil', 'irá', 'priorizar', 'a', 'educação', 'básica', ',', 'que', 'é', 'a', 'que', 'realmente', 'transforma', 'o', 'presente', 'e', 'o', 'futuro', 'de', 'nossos', 'filhos', 'e', 'netos', ',', 'diminuindo', 'a', 'desigualdade', 'social', '.', 'temos', 'que', 'nos', 'espelhar', 'em', 'nações', 'que', 'são', 'exemplos', 'para', 'o', 'mundo', 'e', 'que', 'por', 'meio', 'da', 'educação', 'encontraram', 'o', 'caminho', 'da', 'prosperidade', '.', 'vamos', 'retirar', 'o', 'viés', 'ideológico', 'de', 'nossas', 'relações', 'internacionais', '.', 'vamos', 'em', 'busca', 'de', 'um', 'novo', 'tempo', 'para', 'o', 'brasil', 'e', 'os', 'brasileiros', '!', 'por', 'muito', 'tempo', ',', 'o', 'país', 'foi', 'governado', 'atendendo', 'a', 'interesses', 'partidários', 'que', 'não', 'o', 'dos', 'brasileiros', '.', 'vamos', 'restabelecer', 'a', 'ordem', 'neste', 'país', '.', 'sabemos', 'do', 'tamanho', 'da', 'nossa', 'responsabilidade', 'e', 'dos', 'desafios', 'que', 'vamos', 'enfrentar', '.', 'mas', 'sabemos', 'aonde', 'queremos', 'chegar', 'e', 'do', 'potencial', 'que', 'o', 'nosso', 'brasil', 'tem', '.', 'por', 'isso', 'vamos', 'dia', 'e', 'noite', 'perseguir', 'o', 'objetivo', 'de', 'tornar', 'o', 'nosso', 'país', 'um', 'lugar', 'próspero', 'e', 'seguro', 'para', 'os', 'nossos', 'cidadãos', 'e', 'uma', 'das', 'maiores', 'nações', 'do', 'planeta', '.', 'podem', 'contar', 'com', 'toda', 'a', 'minha', 'dedicação', 'para', 'construir', 'o', 'brasil', 'dos', 'nossos', 'sonhos', '.', 'agradeço', 'a', 'deus', 'por', 'estar', 'vivo', 'e', 'a', 'vocês', 'que', 'oraram', 'por', 'mim', 'e', 'por', 'minha', 'saúde', 'nos', 'momentos', 'mais', 'difíceis', '.', 'peço', 'ao', 'bom', 'deus', 'que', 'nos', 'dê', 'sabedoria', 'para', 'conduzir', 'a', 'nação', '.', 'que', 'deus', 'abençoe', 'esta', 'grande', 'nação', '.', 'brasil', 'acima', 'de', 'tudo', ',', 'deus', 'acima', 'de', 'todos', '.', \"''\"]\n"
     ]
    }
   ],
   "source": [
    "# Palavras em letras minúsculas\n",
    "tokenized_word2 = [w.lower() for w in tokenized_word]\n",
    "print(tokenized_word2)"
   ]
  },
  {
   "cell_type": "code",
   "execution_count": 8,
   "metadata": {},
   "outputs": [
    {
     "name": "stdout",
     "output_type": "stream",
     "text": [
      "{'estivermos', 'fôramos', 'pelas', 'num', 'estivemos', 'estejamos', 'sejamos', 'tenhamos', 'da', 'pelo', 'houveria', 'sejam', 'aos', 'quando', 'estiver', 'essas', 'tém', 'foi', 'por', 'nossas', 'seja', 'esteve', 'teria', 'até', 'houverão', 'seriam', 'também', 'fôssemos', 'do', 'estou', 'houvera', 'às', 'teve', 'nosso', 'e', 'estão', 'me', 'teus', 'terá', 'estivessem', 'tenham', 'depois', 'terei', 'houveram', 'fossem', 'estejam', 'tem', 'tivermos', 'tivemos', 'você', 'houverem', 'em', 'seríamos', 'isto', 'teriam', 'tivera', 'nossa', 'numa', 'tivéramos', 'mas', 'tinha', 'tiveram', 'meu', 'tivesse', 'dele', 'estivera', 'seu', 'mesmo', 'houveríamos', 'um', 'houvermos', 'dela', 'houvemos', 'eu', 'entre', 'estive', 'há', 'teremos', 'meus', 'tu', 'houvéramos', 'fui', 'ao', 'as', 'tive', 'eram', 'se', 'tua', 'estávamos', 'houveremos', 'estas', 'tiver', 'esse', 'era', 'serei', 'os', 'estava', 'estivéssemos', 'quem', 'estiveram', 'houve', 'nos', 'são', 'ou', 'fosse', 'hajam', 'minha', 'sou', 'estes', 'for', 'na', 'tínhamos', 'tuas', 'estamos', 'aquela', 'houvesse', 'houveriam', 'lhes', 'não', 'uma', 'essa', 'delas', 'houvéssemos', 'nossos', 'qual', 'estiverem', 'terão', 'aquilo', 'nas', 'estavam', 'que', 'forem', 'de', 'seremos', 'tivessem', 'houver', 'te', 'tivéssemos', 'tenha', 'é', 'temos', 'formos', 'tiverem', 'está', 'teríamos', 'elas', 'pelos', 'dos', 'minhas', 'serão', 'tinham', 'a', 'vos', 'somos', 'houverá', 'esta', 'aquele', 'no', 'sem', 'aquelas', 'sua', 'para', 'estivéramos', 'foram', 'à', 'seus', 'mais', 'ele', 'só', 'nós', 'aqueles', 'como', 'pela', 'houverei', 'eles', 'isso', 'esses', 'hão', 'éramos', 'será', 'houvessem', 'muito', 'seria', 'o', 'com', 'teu', 'haja', 'já', 'havemos', 'lhe', 'tenho', 'estivesse', 'vocês', 'esteja', 'deles', 'este', 'hei', 'fora', 'das', 'ela', 'nem', 'hajamos', 'fomos', 'suas'}\n"
     ]
    },
    {
     "name": "stderr",
     "output_type": "stream",
     "text": [
      "[nltk_data] Downloading package stopwords to\n",
      "[nltk_data]     C:\\Users\\simonato\\AppData\\Roaming\\nltk_data...\n",
      "[nltk_data]   Package stopwords is already up-to-date!\n"
     ]
    }
   ],
   "source": [
    "# Aqui, vamos retirar as chamadas stopwords (conjuncoes, preposicoes, palavras que não nos interessam)\n",
    "# 1) Vamos ver quais stopwords ja existem na biblioteca\n",
    "from nltk.corpus import stopwords\n",
    "nltk.download('stopwords')\n",
    "stop_words = set(stopwords.words('portuguese'))\n",
    "print(stop_words)"
   ]
  },
  {
   "cell_type": "code",
   "execution_count": 9,
   "metadata": {},
   "outputs": [
    {
     "name": "stdout",
     "output_type": "stream",
     "text": [
      "{'estivermos', 'fôramos', 'pelas', 'num', 'estivemos', 'estejamos', 'sejamos', 'tenhamos', 'da', 'pelo', 'houveria', 'sejam', 'aos', 'quando', 'estiver', 'essas', 'tém', 'foi', 'por', 'nossas', 'seja', 'esteve', 'teria', 'até', 'houverão', 'seriam', '–', 'também', 'fôssemos', 'do', 'estou', 'houvera', 'às', 'teve', ';', 'nosso', 'e', 'estão', 'me', 'teus', 'terá', 'estivessem', 'tenham', 'depois', 'uso', '-', 'terei', 'houveram', 'fossem', 'estejam', 'tem', 'tivermos', 'tivemos', 'você', 'houverem', 'http', 'em', 'seríamos', 'isto', 'teriam', ',', 'tivera', 'nossa', 'numa', 'tivéramos', 'mas', 'tinha', 'tiveram', 'meu', 'tivesse', 'dele', 'estivera', 'seu', 'mesmo', 'houveríamos', 'um', 'houvermos', 'dela', 'houvemos', 'eu', 'entre', 'estive', 'há', 'teremos', 'meus', 'tu', 'houvéramos', 'fui', 'ao', 'as', 'tive', 'eram', 'se', 'tua', 'estávamos', 'houveremos', 'estas', 'tiver', 'esse', 'era', 'serei', 'os', 'estava', 'estivéssemos', 'quem', 'estiveram', 'houve', 'nos', 'são', 'ou', 'fosse', 'hajam', 'minha', 'sou', '.', 'estes', 'for', 'na', 'tínhamos', 'tuas', 'estamos', 'aquela', 'houvesse', 'houveriam', ':', 'lhes', 'não', 'droga', 'uma', 'essa', 'delas', 'houvéssemos', 'nossos', 'qual', 'estiverem', 'terão', 'aquilo', 'nas', 'estavam', 'que', 'forem', 'de', 'seremos', 'tivessem', 'houver', 'te', 'bbbbbbbbbbbbbbb', 'tivéssemos', 'tenha', 'é', 'temos', 'formos', 'tiverem', 'está', '%', 'teríamos', 'drogas', 'elas', 'pelos', 'dos', 'minhas', 'serão', 'tinham', 'a', 'vos', 'somos', 'houverá', 'esta', 'aquele', 'no', 'sem', 'aquelas', 'art.', 'sua', 'para', 'estivéramos', 'foram', 'à', 'seus', 'mais', 'ele', 'só', 'nós', 'aqueles', 'como', 'pela', 'houverei', 'eles', 'isso', 'esses', 'hão', 'éramos', 'será', 'houvessem', 'muito', 'seria', 'o', 'com', 'teu', 'haja', 'já', 'havemos', 'lhe', 'tenho', 'estivesse', 'vocês', 'esteja', 'deles', 'este', 'hei', 'fora', 'das', 'ela', 'nem', 'hajamos', 'fomos', 'suas'}\n"
     ]
    }
   ],
   "source": [
    "# 2) Vamos adicionar novas stopwords\n",
    "# coloquei o 'bbbbbbbbbbb' porque ficava mais facil pra ver se deu certo a lista de stopwords depois\n",
    "stop_words.update(('uso',',',';','%','.',':','bbbbbbbbbbbbbbb','-','droga','drogas','art.','–','http'))\n",
    "print(stop_words)"
   ]
  },
  {
   "cell_type": "code",
   "execution_count": 10,
   "metadata": {},
   "outputs": [],
   "source": [
    "# Remover essas stopwords\n",
    "tokenized_word_3 = []\n",
    "for w in tokenized_word2:\n",
    "    if w not in stop_words:\n",
    "        tokenized_word_3.append(w)"
   ]
  },
  {
   "cell_type": "code",
   "execution_count": 11,
   "metadata": {},
   "outputs": [],
   "source": [
    "# se quiser comparar o antes e depois da remoção das stopwords\n",
    "#print(\"Tokenized Word:\",tokenized_word)\n",
    "#print(\"Filterd Word:\",tokenized_word_3)"
   ]
  },
  {
   "cell_type": "code",
   "execution_count": 12,
   "metadata": {},
   "outputs": [
    {
     "data": {
      "text/plain": [
       "[('brasil', 10),\n",
       " ('vamos', 9),\n",
       " ('deus', 6),\n",
       " ('todos', 5),\n",
       " ('nação', 5),\n",
       " ('governo', 5),\n",
       " ('toda', 4),\n",
       " ('dia', 4),\n",
       " ('país', 4),\n",
       " ('brasileiros', 4),\n",
       " ('povo', 3),\n",
       " ('juntos', 3),\n",
       " ('grande', 3),\n",
       " ('famílias', 3),\n",
       " ('tudo', 3),\n",
       " ('neste', 2),\n",
       " ('valores', 2),\n",
       " ('voz', 2),\n",
       " ('aqui', 2),\n",
       " ('vez', 2)]"
      ]
     },
     "execution_count": 12,
     "metadata": {},
     "output_type": "execute_result"
    }
   ],
   "source": [
    "# Analisa a distribuição das palavras\n",
    "from nltk.probability import FreqDist\n",
    "fdist = FreqDist(tokenized_word_3)\n",
    "fdist.most_common(20)"
   ]
  },
  {
   "cell_type": "code",
   "execution_count": 15,
   "metadata": {},
   "outputs": [
    {
     "data": {
      "image/png": "[encoded data removed]",
      "text/plain": [
       "<Figure size 432x288 with 1 Axes>"
      ]
     },
     "metadata": {
      "needs_background": "light"
     },
     "output_type": "display_data"
    },
    {
     "data": {
      "text/plain": [
       "<matplotlib.axes._subplots.AxesSubplot at 0x2aaef4ffc08>"
      ]
     },
     "execution_count": 15,
     "metadata": {},
     "output_type": "execute_result"
    }
   ],
   "source": [
    "# Gráfico de distribuiçao de palavras\n",
    "import matplotlib.pyplot as plt\n",
    "plt.figure()\n",
    "fdist.plot(20,cumulative=False)"
   ]
  },
  {
   "cell_type": "code",
   "execution_count": 16,
   "metadata": {},
   "outputs": [
    {
     "data": {
      "text/plain": [
       "<wordcloud.wordcloud.WordCloud at 0x2aaef562088>"
      ]
     },
     "execution_count": 16,
     "metadata": {},
     "output_type": "execute_result"
    }
   ],
   "source": [
    "# Wordcloud\n",
    "wc = WordCloud()\n",
    "img = wc.generate_from_text(' '.join(tokenized_word_3))\n",
    "img.to_file('worcloud.jpeg')"
   ]
  },
  {
   "cell_type": "code",
   "execution_count": null,
   "metadata": {},
   "outputs": [],
   "source": []
  }
 ],
 "metadata": {
  "kernelspec": {
   "display_name": "Python 3",
   "language": "python",
   "name": "python3"
  },
  "language_info": {
   "codemirror_mode": {
    "name": "ipython",
    "version": 3
   },
   "file_extension": ".py",
   "mimetype": "text/x-python",
   "name": "python",
   "nbconvert_exporter": "python",
   "pygments_lexer": "ipython3",
   "version": "3.7.4"
  }
 },
 "nbformat": 4,
 "nbformat_minor": 2
}
